{
 "cells": [
  {
   "cell_type": "markdown",
   "metadata": {},
   "source": [
    "# Unit 12 - Tales from the Crypto\n",
    "\n",
    "---\n"
   ]
  },
  {
   "cell_type": "markdown",
   "metadata": {},
   "source": [
    "## 1. Sentiment Analysis\n",
    "\n",
    "Use the [newsapi](https://newsapi.org/) to pull the latest news articles for Bitcoin and Ethereum and create a DataFrame of sentiment scores for each coin.\n",
    "\n",
    "Use descriptive statistics to answer the following questions:\n",
    "1. Which coin had the highest mean positive score?\n",
    "2. Which coin had the highest negative score?\n",
    "3. Which coin had the highest positive score?"
   ]
  },
  {
   "cell_type": "code",
   "execution_count": 46,
   "metadata": {},
   "outputs": [
    {
     "name": "stderr",
     "output_type": "stream",
     "text": [
      "[nltk_data] Downloading package vader_lexicon to\n",
      "[nltk_data]     C:\\Users\\krist\\AppData\\Roaming\\nltk_data...\n",
      "[nltk_data]   Package vader_lexicon is already up-to-date!\n",
      "[nltk_data] Downloading package wordnet to\n",
      "[nltk_data]     C:\\Users\\krist\\AppData\\Roaming\\nltk_data...\n",
      "[nltk_data]   Package wordnet is already up-to-date!\n",
      "[nltk_data] Downloading package stopwords to\n",
      "[nltk_data]     C:\\Users\\krist\\AppData\\Roaming\\nltk_data...\n",
      "[nltk_data]   Unzipping corpora\\stopwords.zip.\n"
     ]
    }
   ],
   "source": [
    "# Initial imports\n",
    "import os\n",
    "import pandas as pd\n",
    "from dotenv import load_dotenv\n",
    "import nltk as nltk\n",
    "nltk.download('vader_lexicon')\n",
    "nltk.download('wordnet')\n",
    "nltk.download('stopwords')\n",
    "from nltk.sentiment.vader import SentimentIntensityAnalyzer\n",
    "analyzer = SentimentIntensityAnalyzer()\n",
    "\n",
    "%matplotlib inline"
   ]
  },
  {
   "cell_type": "code",
   "execution_count": 3,
   "metadata": {},
   "outputs": [
    {
     "data": {
      "text/plain": [
       "True"
      ]
     },
     "execution_count": 3,
     "metadata": {},
     "output_type": "execute_result"
    }
   ],
   "source": [
    "load_dotenv()"
   ]
  },
  {
   "cell_type": "code",
   "execution_count": 4,
   "metadata": {},
   "outputs": [
    {
     "data": {
      "text/plain": [
       "str"
      ]
     },
     "execution_count": 4,
     "metadata": {},
     "output_type": "execute_result"
    }
   ],
   "source": [
    "# Read your api key environment variable\n",
    "api_key = os.getenv('NEWSAPI_KEY')\n",
    "type(api_key)"
   ]
  },
  {
   "cell_type": "code",
   "execution_count": 5,
   "metadata": {},
   "outputs": [],
   "source": [
    "# Create a newsapi client\n",
    "from newsapi import NewsApiClient\n",
    "newsapi = NewsApiClient(api_key)"
   ]
  },
  {
   "cell_type": "code",
   "execution_count": 6,
   "metadata": {},
   "outputs": [
    {
     "data": {
      "text/plain": [
       "{'source': {'id': 'the-verge', 'name': 'The Verge'},\n",
       " 'author': 'Jay Peters',\n",
       " 'title': 'Block and Blockstream are partnering with Tesla on an off-grid, solar-powered Bitcoin mine in Texas',\n",
       " 'description': 'Block and Blockstream are partnering with Tesla on an open-source, solar-powered Bitcoin mine, the companies announced Friday. Tesla’s 3.8-megawatt Solar PV array and its 12 megawatt-hour Megapack will power the facility, and construction has started on the p…',\n",
       " 'url': 'https://www.theverge.com/2022/4/8/23016553/block-blockstream-tesla-solar-bitcoin-mine-texas',\n",
       " 'urlToImage': 'https://cdn.vox-cdn.com/thumbor/OYrvaaOHBuEpdTeRO55nZnZdexs=/0x215:3000x1786/fit-in/1200x630/cdn.vox-cdn.com/uploads/chorus_asset/file/8937281/acastro_170726_1777_0007_v2.jpg',\n",
       " 'publishedAt': '2022-04-08T16:02:52Z',\n",
       " 'content': 'Its set to open later this year\\r\\nIf you buy something from a Verge link, Vox Media may earn a commission. See our ethics statement.\\r\\nIllustration by Alex Castro / The Verge\\r\\nBlock and Blockstream, a … [+1336 chars]'}"
      ]
     },
     "execution_count": 6,
     "metadata": {},
     "output_type": "execute_result"
    }
   ],
   "source": [
    "# Fetch the Bitcoin news articles\n",
    "bitcoin_news = newsapi.get_everything(q='Bitcoin',\n",
    "                                      language = 'en',\n",
    "                                      page_size = 100,\n",
    "                                      sort_by = 'relevancy')\n",
    "\n",
    "bitcoin_news['articles'][0]"
   ]
  },
  {
   "cell_type": "code",
   "execution_count": 24,
   "metadata": {},
   "outputs": [
    {
     "data": {
      "text/plain": [
       "{'source': {'id': 'the-verge', 'name': 'The Verge'},\n",
       " 'author': 'Emma Roth',\n",
       " 'title': 'US blames North Korean hacker group for $625 million Axie Infinity theft',\n",
       " 'description': 'The US Department of Treasury has attributed the $625 Axie Infinity theft to Lazarus, a North Korean hacking group with ties to the country’s intelligence agency.',\n",
       " 'url': 'https://www.theverge.com/2022/4/14/23025739/north-korean-hacker-lazarus-axie-infinity-cryptocurrency-hack-theft-us-blames',\n",
       " 'urlToImage': 'https://cdn.vox-cdn.com/thumbor/n8TGCqcud7UHPIbtgxLi10Owa5I=/0x52:1018x585/fit-in/1200x630/cdn.vox-cdn.com/uploads/chorus_asset/file/23374959/Screen_Shot_2022_03_30_at_10.10.00_AM.png',\n",
       " 'publishedAt': '2022-04-14T21:43:57Z',\n",
       " 'content': 'The US Department of Treasury says Lazarus is behind the attack\\r\\nThe US Treasury Department blames North Korean hacking group Lazarus for stealing $625 million in cryptocurrency from the Ronin networ… [+1853 chars]'}"
      ]
     },
     "execution_count": 24,
     "metadata": {},
     "output_type": "execute_result"
    }
   ],
   "source": [
    "# Fetch the Ethereum news articles\n",
    "ethereum_news = newsapi.get_everything(q='Ethereum',\n",
    "                                      language = 'en',\n",
    "                                      page_size = 100,\n",
    "                                      sort_by = 'relevancy')\n",
    "\n",
    "ethereum_news['articles'][0]"
   ]
  },
  {
   "cell_type": "code",
   "execution_count": 28,
   "metadata": {},
   "outputs": [
    {
     "data": {
      "text/html": [
       "<div>\n",
       "<style scoped>\n",
       "    .dataframe tbody tr th:only-of-type {\n",
       "        vertical-align: middle;\n",
       "    }\n",
       "\n",
       "    .dataframe tbody tr th {\n",
       "        vertical-align: top;\n",
       "    }\n",
       "\n",
       "    .dataframe thead th {\n",
       "        text-align: right;\n",
       "    }\n",
       "</style>\n",
       "<table border=\"1\" class=\"dataframe\">\n",
       "  <thead>\n",
       "    <tr style=\"text-align: right;\">\n",
       "      <th></th>\n",
       "      <th>text</th>\n",
       "      <th>date</th>\n",
       "      <th>compound</th>\n",
       "      <th>positive</th>\n",
       "      <th>negative</th>\n",
       "      <th>neutral</th>\n",
       "    </tr>\n",
       "  </thead>\n",
       "  <tbody>\n",
       "    <tr>\n",
       "      <th>0</th>\n",
       "      <td>The US Department of Treasury says Lazarus is ...</td>\n",
       "      <td>2022-04-14</td>\n",
       "      <td>-0.7845</td>\n",
       "      <td>0.088</td>\n",
       "      <td>0.231</td>\n",
       "      <td>0.681</td>\n",
       "    </tr>\n",
       "    <tr>\n",
       "      <th>1</th>\n",
       "      <td>18 with 15 posters participating, including st...</td>\n",
       "      <td>2022-04-13</td>\n",
       "      <td>0.1027</td>\n",
       "      <td>0.084</td>\n",
       "      <td>0.071</td>\n",
       "      <td>0.844</td>\n",
       "    </tr>\n",
       "    <tr>\n",
       "      <th>2</th>\n",
       "      <td>This week, the cryptocurrency network Ronin di...</td>\n",
       "      <td>2022-04-03</td>\n",
       "      <td>-0.4215</td>\n",
       "      <td>0.051</td>\n",
       "      <td>0.098</td>\n",
       "      <td>0.851</td>\n",
       "    </tr>\n",
       "    <tr>\n",
       "      <th>3</th>\n",
       "      <td>Opera launched its dedicated \"Crypto Browser\" ...</td>\n",
       "      <td>2022-04-15</td>\n",
       "      <td>0.7351</td>\n",
       "      <td>0.188</td>\n",
       "      <td>0.000</td>\n",
       "      <td>0.812</td>\n",
       "    </tr>\n",
       "    <tr>\n",
       "      <th>4</th>\n",
       "      <td>April 5 (Reuters) - Ethereum blockchain scalin...</td>\n",
       "      <td>2022-04-05</td>\n",
       "      <td>0.0000</td>\n",
       "      <td>0.000</td>\n",
       "      <td>0.000</td>\n",
       "      <td>1.000</td>\n",
       "    </tr>\n",
       "  </tbody>\n",
       "</table>\n",
       "</div>"
      ],
      "text/plain": [
       "                                                text        date  compound  \\\n",
       "0  The US Department of Treasury says Lazarus is ...  2022-04-14   -0.7845   \n",
       "1  18 with 15 posters participating, including st...  2022-04-13    0.1027   \n",
       "2  This week, the cryptocurrency network Ronin di...  2022-04-03   -0.4215   \n",
       "3  Opera launched its dedicated \"Crypto Browser\" ...  2022-04-15    0.7351   \n",
       "4  April 5 (Reuters) - Ethereum blockchain scalin...  2022-04-05    0.0000   \n",
       "\n",
       "   positive  negative  neutral  \n",
       "0     0.088     0.231    0.681  \n",
       "1     0.084     0.071    0.844  \n",
       "2     0.051     0.098    0.851  \n",
       "3     0.188     0.000    0.812  \n",
       "4     0.000     0.000    1.000  "
      ]
     },
     "execution_count": 28,
     "metadata": {},
     "output_type": "execute_result"
    }
   ],
   "source": [
    "# Create the Bitcoin sentiment scores DataFrame\n",
    "bitcoin_sentiments = []\n",
    "\n",
    "for article in bitcoin_news['articles']:\n",
    "    try:\n",
    "        text = article['content']\n",
    "        date = article['publishedAt'][:10]\n",
    "        sentiment = analyzer.polarity_scores(text)\n",
    "        compound = sentiment['compound']\n",
    "        pos = sentiment['pos']\n",
    "        neg = sentiment['neg']\n",
    "        neu = sentiment['neu']\n",
    "\n",
    "        bitcoin_sentiments.append({\n",
    "            'text' : text,\n",
    "            'date' : date,\n",
    "            'compound' : compound,\n",
    "            'positive' : pos,\n",
    "            'negative' : neg,\n",
    "            'neutral' : neu\n",
    "        })\n",
    "    \n",
    "    except AttributeError:\n",
    "        pass\n",
    "\n",
    "bitcoin_df = pd.DataFrame(bitcoin_sentiments)\n",
    "bitcoin_df.head()"
   ]
  },
  {
   "cell_type": "code",
   "execution_count": 29,
   "metadata": {},
   "outputs": [
    {
     "data": {
      "text/html": [
       "<div>\n",
       "<style scoped>\n",
       "    .dataframe tbody tr th:only-of-type {\n",
       "        vertical-align: middle;\n",
       "    }\n",
       "\n",
       "    .dataframe tbody tr th {\n",
       "        vertical-align: top;\n",
       "    }\n",
       "\n",
       "    .dataframe thead th {\n",
       "        text-align: right;\n",
       "    }\n",
       "</style>\n",
       "<table border=\"1\" class=\"dataframe\">\n",
       "  <thead>\n",
       "    <tr style=\"text-align: right;\">\n",
       "      <th></th>\n",
       "      <th>text</th>\n",
       "      <th>date</th>\n",
       "      <th>compound</th>\n",
       "      <th>positive</th>\n",
       "      <th>negative</th>\n",
       "      <th>neutral</th>\n",
       "    </tr>\n",
       "  </thead>\n",
       "  <tbody>\n",
       "    <tr>\n",
       "      <th>0</th>\n",
       "      <td>The US Department of Treasury says Lazarus is ...</td>\n",
       "      <td>2022-04-14</td>\n",
       "      <td>-0.7845</td>\n",
       "      <td>0.088</td>\n",
       "      <td>0.231</td>\n",
       "      <td>0.681</td>\n",
       "    </tr>\n",
       "    <tr>\n",
       "      <th>1</th>\n",
       "      <td>18 with 15 posters participating, including st...</td>\n",
       "      <td>2022-04-13</td>\n",
       "      <td>0.1027</td>\n",
       "      <td>0.084</td>\n",
       "      <td>0.071</td>\n",
       "      <td>0.844</td>\n",
       "    </tr>\n",
       "    <tr>\n",
       "      <th>2</th>\n",
       "      <td>This week, the cryptocurrency network Ronin di...</td>\n",
       "      <td>2022-04-03</td>\n",
       "      <td>-0.4215</td>\n",
       "      <td>0.051</td>\n",
       "      <td>0.098</td>\n",
       "      <td>0.851</td>\n",
       "    </tr>\n",
       "    <tr>\n",
       "      <th>3</th>\n",
       "      <td>Opera launched its dedicated \"Crypto Browser\" ...</td>\n",
       "      <td>2022-04-15</td>\n",
       "      <td>0.7351</td>\n",
       "      <td>0.188</td>\n",
       "      <td>0.000</td>\n",
       "      <td>0.812</td>\n",
       "    </tr>\n",
       "    <tr>\n",
       "      <th>4</th>\n",
       "      <td>April 5 (Reuters) - Ethereum blockchain scalin...</td>\n",
       "      <td>2022-04-05</td>\n",
       "      <td>0.0000</td>\n",
       "      <td>0.000</td>\n",
       "      <td>0.000</td>\n",
       "      <td>1.000</td>\n",
       "    </tr>\n",
       "  </tbody>\n",
       "</table>\n",
       "</div>"
      ],
      "text/plain": [
       "                                                text        date  compound  \\\n",
       "0  The US Department of Treasury says Lazarus is ...  2022-04-14   -0.7845   \n",
       "1  18 with 15 posters participating, including st...  2022-04-13    0.1027   \n",
       "2  This week, the cryptocurrency network Ronin di...  2022-04-03   -0.4215   \n",
       "3  Opera launched its dedicated \"Crypto Browser\" ...  2022-04-15    0.7351   \n",
       "4  April 5 (Reuters) - Ethereum blockchain scalin...  2022-04-05    0.0000   \n",
       "\n",
       "   positive  negative  neutral  \n",
       "0     0.088     0.231    0.681  \n",
       "1     0.084     0.071    0.844  \n",
       "2     0.051     0.098    0.851  \n",
       "3     0.188     0.000    0.812  \n",
       "4     0.000     0.000    1.000  "
      ]
     },
     "execution_count": 29,
     "metadata": {},
     "output_type": "execute_result"
    }
   ],
   "source": [
    "# Create the Ethereum sentiment scores DataFrame\n",
    "# Create the Bitcoin sentiment scores DataFrame\n",
    "ethereum_sentiments = []\n",
    "\n",
    "for article in ethereum_news['articles']:\n",
    "    try:\n",
    "        text = article['content']\n",
    "        date = article['publishedAt'][:10]\n",
    "        sentiment = analyzer.polarity_scores(text)\n",
    "        compound = sentiment['compound']\n",
    "        pos = sentiment['pos']\n",
    "        neg = sentiment['neg']\n",
    "        neu = sentiment['neu']\n",
    "\n",
    "        ethereum_sentiments.append({\n",
    "            'text' : text,\n",
    "            'date' : date,\n",
    "            'compound' : compound,\n",
    "            'positive' : pos,\n",
    "            'negative' : neg,\n",
    "            'neutral' : neu\n",
    "        })\n",
    "    \n",
    "    except AttributeError:\n",
    "        pass\n",
    "\n",
    "ethereum_df = pd.DataFrame(ethereum_sentiments)\n",
    "ethereum_df.head()"
   ]
  },
  {
   "cell_type": "code",
   "execution_count": 30,
   "metadata": {},
   "outputs": [
    {
     "data": {
      "text/html": [
       "<div>\n",
       "<style scoped>\n",
       "    .dataframe tbody tr th:only-of-type {\n",
       "        vertical-align: middle;\n",
       "    }\n",
       "\n",
       "    .dataframe tbody tr th {\n",
       "        vertical-align: top;\n",
       "    }\n",
       "\n",
       "    .dataframe thead th {\n",
       "        text-align: right;\n",
       "    }\n",
       "</style>\n",
       "<table border=\"1\" class=\"dataframe\">\n",
       "  <thead>\n",
       "    <tr style=\"text-align: right;\">\n",
       "      <th></th>\n",
       "      <th>compound</th>\n",
       "      <th>positive</th>\n",
       "      <th>negative</th>\n",
       "      <th>neutral</th>\n",
       "    </tr>\n",
       "  </thead>\n",
       "  <tbody>\n",
       "    <tr>\n",
       "      <th>count</th>\n",
       "      <td>100.000000</td>\n",
       "      <td>100.000000</td>\n",
       "      <td>100.000000</td>\n",
       "      <td>100.000000</td>\n",
       "    </tr>\n",
       "    <tr>\n",
       "      <th>mean</th>\n",
       "      <td>0.213806</td>\n",
       "      <td>0.092230</td>\n",
       "      <td>0.034820</td>\n",
       "      <td>0.872940</td>\n",
       "    </tr>\n",
       "    <tr>\n",
       "      <th>std</th>\n",
       "      <td>0.419791</td>\n",
       "      <td>0.093433</td>\n",
       "      <td>0.047839</td>\n",
       "      <td>0.098508</td>\n",
       "    </tr>\n",
       "    <tr>\n",
       "      <th>min</th>\n",
       "      <td>-0.784500</td>\n",
       "      <td>0.000000</td>\n",
       "      <td>0.000000</td>\n",
       "      <td>0.594000</td>\n",
       "    </tr>\n",
       "    <tr>\n",
       "      <th>25%</th>\n",
       "      <td>0.000000</td>\n",
       "      <td>0.000000</td>\n",
       "      <td>0.000000</td>\n",
       "      <td>0.812750</td>\n",
       "    </tr>\n",
       "    <tr>\n",
       "      <th>50%</th>\n",
       "      <td>0.215150</td>\n",
       "      <td>0.074000</td>\n",
       "      <td>0.000000</td>\n",
       "      <td>0.896500</td>\n",
       "    </tr>\n",
       "    <tr>\n",
       "      <th>75%</th>\n",
       "      <td>0.541550</td>\n",
       "      <td>0.138250</td>\n",
       "      <td>0.063750</td>\n",
       "      <td>0.940500</td>\n",
       "    </tr>\n",
       "    <tr>\n",
       "      <th>max</th>\n",
       "      <td>0.952000</td>\n",
       "      <td>0.378000</td>\n",
       "      <td>0.233000</td>\n",
       "      <td>1.000000</td>\n",
       "    </tr>\n",
       "  </tbody>\n",
       "</table>\n",
       "</div>"
      ],
      "text/plain": [
       "         compound    positive    negative     neutral\n",
       "count  100.000000  100.000000  100.000000  100.000000\n",
       "mean     0.213806    0.092230    0.034820    0.872940\n",
       "std      0.419791    0.093433    0.047839    0.098508\n",
       "min     -0.784500    0.000000    0.000000    0.594000\n",
       "25%      0.000000    0.000000    0.000000    0.812750\n",
       "50%      0.215150    0.074000    0.000000    0.896500\n",
       "75%      0.541550    0.138250    0.063750    0.940500\n",
       "max      0.952000    0.378000    0.233000    1.000000"
      ]
     },
     "execution_count": 30,
     "metadata": {},
     "output_type": "execute_result"
    }
   ],
   "source": [
    "# Describe the Bitcoin Sentiment\n",
    "bitcoin_df.describe()"
   ]
  },
  {
   "cell_type": "code",
   "execution_count": 31,
   "metadata": {},
   "outputs": [
    {
     "data": {
      "text/html": [
       "<div>\n",
       "<style scoped>\n",
       "    .dataframe tbody tr th:only-of-type {\n",
       "        vertical-align: middle;\n",
       "    }\n",
       "\n",
       "    .dataframe tbody tr th {\n",
       "        vertical-align: top;\n",
       "    }\n",
       "\n",
       "    .dataframe thead th {\n",
       "        text-align: right;\n",
       "    }\n",
       "</style>\n",
       "<table border=\"1\" class=\"dataframe\">\n",
       "  <thead>\n",
       "    <tr style=\"text-align: right;\">\n",
       "      <th></th>\n",
       "      <th>compound</th>\n",
       "      <th>positive</th>\n",
       "      <th>negative</th>\n",
       "      <th>neutral</th>\n",
       "    </tr>\n",
       "  </thead>\n",
       "  <tbody>\n",
       "    <tr>\n",
       "      <th>count</th>\n",
       "      <td>100.000000</td>\n",
       "      <td>100.000000</td>\n",
       "      <td>100.000000</td>\n",
       "      <td>100.000000</td>\n",
       "    </tr>\n",
       "    <tr>\n",
       "      <th>mean</th>\n",
       "      <td>0.213806</td>\n",
       "      <td>0.092230</td>\n",
       "      <td>0.034820</td>\n",
       "      <td>0.872940</td>\n",
       "    </tr>\n",
       "    <tr>\n",
       "      <th>std</th>\n",
       "      <td>0.419791</td>\n",
       "      <td>0.093433</td>\n",
       "      <td>0.047839</td>\n",
       "      <td>0.098508</td>\n",
       "    </tr>\n",
       "    <tr>\n",
       "      <th>min</th>\n",
       "      <td>-0.784500</td>\n",
       "      <td>0.000000</td>\n",
       "      <td>0.000000</td>\n",
       "      <td>0.594000</td>\n",
       "    </tr>\n",
       "    <tr>\n",
       "      <th>25%</th>\n",
       "      <td>0.000000</td>\n",
       "      <td>0.000000</td>\n",
       "      <td>0.000000</td>\n",
       "      <td>0.812750</td>\n",
       "    </tr>\n",
       "    <tr>\n",
       "      <th>50%</th>\n",
       "      <td>0.215150</td>\n",
       "      <td>0.074000</td>\n",
       "      <td>0.000000</td>\n",
       "      <td>0.896500</td>\n",
       "    </tr>\n",
       "    <tr>\n",
       "      <th>75%</th>\n",
       "      <td>0.541550</td>\n",
       "      <td>0.138250</td>\n",
       "      <td>0.063750</td>\n",
       "      <td>0.940500</td>\n",
       "    </tr>\n",
       "    <tr>\n",
       "      <th>max</th>\n",
       "      <td>0.952000</td>\n",
       "      <td>0.378000</td>\n",
       "      <td>0.233000</td>\n",
       "      <td>1.000000</td>\n",
       "    </tr>\n",
       "  </tbody>\n",
       "</table>\n",
       "</div>"
      ],
      "text/plain": [
       "         compound    positive    negative     neutral\n",
       "count  100.000000  100.000000  100.000000  100.000000\n",
       "mean     0.213806    0.092230    0.034820    0.872940\n",
       "std      0.419791    0.093433    0.047839    0.098508\n",
       "min     -0.784500    0.000000    0.000000    0.594000\n",
       "25%      0.000000    0.000000    0.000000    0.812750\n",
       "50%      0.215150    0.074000    0.000000    0.896500\n",
       "75%      0.541550    0.138250    0.063750    0.940500\n",
       "max      0.952000    0.378000    0.233000    1.000000"
      ]
     },
     "execution_count": 31,
     "metadata": {},
     "output_type": "execute_result"
    }
   ],
   "source": [
    "# Describe the Ethereum Sentiment\n",
    "ethereum_df.describe()"
   ]
  },
  {
   "cell_type": "markdown",
   "metadata": {},
   "source": [
    "### Questions:\n",
    "\n",
    "Q: Which coin had the highest mean positive score?\n",
    "\n",
    "A: \n",
    "\n",
    "Q: Which coin had the highest compound score?\n",
    "\n",
    "A: \n",
    "\n",
    "Q. Which coin had the highest positive score?\n",
    "\n",
    "A: "
   ]
  },
  {
   "cell_type": "markdown",
   "metadata": {},
   "source": [
    "---"
   ]
  },
  {
   "cell_type": "markdown",
   "metadata": {},
   "source": [
    "## 2. Natural Language Processing\n",
    "---\n",
    "###   Tokenizer\n",
    "\n",
    "In this section, you will use NLTK and Python to tokenize the text for each coin. Be sure to:\n",
    "1. Lowercase each word.\n",
    "2. Remove Punctuation.\n",
    "3. Remove Stopwords."
   ]
  },
  {
   "cell_type": "code",
   "execution_count": 12,
   "metadata": {},
   "outputs": [],
   "source": [
    "from nltk.tokenize import word_tokenize, sent_tokenize\n",
    "from nltk.corpus import stopwords\n",
    "from nltk.stem import WordNetLemmatizer, PorterStemmer\n",
    "from string import punctuation\n",
    "import re"
   ]
  },
  {
   "cell_type": "code",
   "execution_count": 56,
   "metadata": {},
   "outputs": [],
   "source": [
    "# Instantiate the lemmatizer\n",
    "lemmatizer = WordNetLemmatizer()\n",
    "\n",
    "# Create a list of stopwords\n",
    "\n",
    "\n",
    "# Expand the default stopwords list if necessary\n"
   ]
  },
  {
   "cell_type": "code",
   "execution_count": 44,
   "metadata": {},
   "outputs": [],
   "source": [
    "# Complete the tokenizer function\n",
    "def tokenizer(text):\n",
    "    \"\"\"Tokenizes text.\"\"\"\n",
    "    \n",
    "    # Remove the punctuation from text\n",
    "    regex = re.compile(\"[^a-zA-Z ]\")\n",
    "    re_clean = regex.sub('', text)\n",
    "\n",
    "    # Create a tokenized list of the words\n",
    "    words = word_tokenize(re_clean)\n",
    "    \n",
    "    # Lemmatize words into root words\n",
    "    lemmatizer = WordNetLemmatizer()\n",
    "    lem = [lemmatizer.lemmatize(word) for word in words]\n",
    "\n",
    "    # Remove the stop words\n",
    "    sw = set(stopwords.words('english'))\n",
    "    \n",
    "    # Convert the words to lowercase\n",
    "    tokens = [word.lower() for word in lem if word.lower() not in sw.union(sw_expanded)]\n",
    "    \n",
    "    \n",
    "    return tokens"
   ]
  },
  {
   "cell_type": "code",
   "execution_count": 47,
   "metadata": {},
   "outputs": [
    {
     "data": {
      "text/html": [
       "<div>\n",
       "<style scoped>\n",
       "    .dataframe tbody tr th:only-of-type {\n",
       "        vertical-align: middle;\n",
       "    }\n",
       "\n",
       "    .dataframe tbody tr th {\n",
       "        vertical-align: top;\n",
       "    }\n",
       "\n",
       "    .dataframe thead th {\n",
       "        text-align: right;\n",
       "    }\n",
       "</style>\n",
       "<table border=\"1\" class=\"dataframe\">\n",
       "  <thead>\n",
       "    <tr style=\"text-align: right;\">\n",
       "      <th></th>\n",
       "      <th>text</th>\n",
       "      <th>date</th>\n",
       "      <th>compound</th>\n",
       "      <th>positive</th>\n",
       "      <th>negative</th>\n",
       "      <th>neutral</th>\n",
       "      <th>tokens</th>\n",
       "    </tr>\n",
       "  </thead>\n",
       "  <tbody>\n",
       "    <tr>\n",
       "      <th>0</th>\n",
       "      <td>The US Department of Treasury says Lazarus is ...</td>\n",
       "      <td>2022-04-14</td>\n",
       "      <td>-0.7845</td>\n",
       "      <td>0.088</td>\n",
       "      <td>0.231</td>\n",
       "      <td>0.681</td>\n",
       "      <td>[us, department, treasury, say, lazarus, behin...</td>\n",
       "    </tr>\n",
       "    <tr>\n",
       "      <th>1</th>\n",
       "      <td>18 with 15 posters participating, including st...</td>\n",
       "      <td>2022-04-13</td>\n",
       "      <td>0.1027</td>\n",
       "      <td>0.084</td>\n",
       "      <td>0.071</td>\n",
       "      <td>0.844</td>\n",
       "      <td>[poster, participating, including, story, auth...</td>\n",
       "    </tr>\n",
       "    <tr>\n",
       "      <th>2</th>\n",
       "      <td>This week, the cryptocurrency network Ronin di...</td>\n",
       "      <td>2022-04-03</td>\n",
       "      <td>-0.4215</td>\n",
       "      <td>0.051</td>\n",
       "      <td>0.098</td>\n",
       "      <td>0.851</td>\n",
       "      <td>[week, cryptocurrency, network, ronin, disclos...</td>\n",
       "    </tr>\n",
       "    <tr>\n",
       "      <th>3</th>\n",
       "      <td>Opera launched its dedicated \"Crypto Browser\" ...</td>\n",
       "      <td>2022-04-15</td>\n",
       "      <td>0.7351</td>\n",
       "      <td>0.188</td>\n",
       "      <td>0.000</td>\n",
       "      <td>0.812</td>\n",
       "      <td>[opera, launched, dedicated, crypto, browser, ...</td>\n",
       "    </tr>\n",
       "    <tr>\n",
       "      <th>4</th>\n",
       "      <td>April 5 (Reuters) - Ethereum blockchain scalin...</td>\n",
       "      <td>2022-04-05</td>\n",
       "      <td>0.0000</td>\n",
       "      <td>0.000</td>\n",
       "      <td>0.000</td>\n",
       "      <td>1.000</td>\n",
       "      <td>[april, reuters, ethereum, blockchain, scaling...</td>\n",
       "    </tr>\n",
       "  </tbody>\n",
       "</table>\n",
       "</div>"
      ],
      "text/plain": [
       "                                                text        date  compound  \\\n",
       "0  The US Department of Treasury says Lazarus is ...  2022-04-14   -0.7845   \n",
       "1  18 with 15 posters participating, including st...  2022-04-13    0.1027   \n",
       "2  This week, the cryptocurrency network Ronin di...  2022-04-03   -0.4215   \n",
       "3  Opera launched its dedicated \"Crypto Browser\" ...  2022-04-15    0.7351   \n",
       "4  April 5 (Reuters) - Ethereum blockchain scalin...  2022-04-05    0.0000   \n",
       "\n",
       "   positive  negative  neutral  \\\n",
       "0     0.088     0.231    0.681   \n",
       "1     0.084     0.071    0.844   \n",
       "2     0.051     0.098    0.851   \n",
       "3     0.188     0.000    0.812   \n",
       "4     0.000     0.000    1.000   \n",
       "\n",
       "                                              tokens  \n",
       "0  [us, department, treasury, say, lazarus, behin...  \n",
       "1  [poster, participating, including, story, auth...  \n",
       "2  [week, cryptocurrency, network, ronin, disclos...  \n",
       "3  [opera, launched, dedicated, crypto, browser, ...  \n",
       "4  [april, reuters, ethereum, blockchain, scaling...  "
      ]
     },
     "execution_count": 47,
     "metadata": {},
     "output_type": "execute_result"
    }
   ],
   "source": [
    "# Create a new tokens column for Bitcoin\n",
    "bitcoin_df['tokens'] = bitcoin_df['text'].fillna('').apply(tokenizer)\n",
    "bitcoin_df.head()"
   ]
  },
  {
   "cell_type": "code",
   "execution_count": 48,
   "metadata": {},
   "outputs": [
    {
     "data": {
      "text/html": [
       "<div>\n",
       "<style scoped>\n",
       "    .dataframe tbody tr th:only-of-type {\n",
       "        vertical-align: middle;\n",
       "    }\n",
       "\n",
       "    .dataframe tbody tr th {\n",
       "        vertical-align: top;\n",
       "    }\n",
       "\n",
       "    .dataframe thead th {\n",
       "        text-align: right;\n",
       "    }\n",
       "</style>\n",
       "<table border=\"1\" class=\"dataframe\">\n",
       "  <thead>\n",
       "    <tr style=\"text-align: right;\">\n",
       "      <th></th>\n",
       "      <th>text</th>\n",
       "      <th>date</th>\n",
       "      <th>compound</th>\n",
       "      <th>positive</th>\n",
       "      <th>negative</th>\n",
       "      <th>neutral</th>\n",
       "      <th>tokens</th>\n",
       "    </tr>\n",
       "  </thead>\n",
       "  <tbody>\n",
       "    <tr>\n",
       "      <th>0</th>\n",
       "      <td>The US Department of Treasury says Lazarus is ...</td>\n",
       "      <td>2022-04-14</td>\n",
       "      <td>-0.7845</td>\n",
       "      <td>0.088</td>\n",
       "      <td>0.231</td>\n",
       "      <td>0.681</td>\n",
       "      <td>[us, department, treasury, say, lazarus, behin...</td>\n",
       "    </tr>\n",
       "    <tr>\n",
       "      <th>1</th>\n",
       "      <td>18 with 15 posters participating, including st...</td>\n",
       "      <td>2022-04-13</td>\n",
       "      <td>0.1027</td>\n",
       "      <td>0.084</td>\n",
       "      <td>0.071</td>\n",
       "      <td>0.844</td>\n",
       "      <td>[poster, participating, including, story, auth...</td>\n",
       "    </tr>\n",
       "    <tr>\n",
       "      <th>2</th>\n",
       "      <td>This week, the cryptocurrency network Ronin di...</td>\n",
       "      <td>2022-04-03</td>\n",
       "      <td>-0.4215</td>\n",
       "      <td>0.051</td>\n",
       "      <td>0.098</td>\n",
       "      <td>0.851</td>\n",
       "      <td>[week, cryptocurrency, network, ronin, disclos...</td>\n",
       "    </tr>\n",
       "    <tr>\n",
       "      <th>3</th>\n",
       "      <td>Opera launched its dedicated \"Crypto Browser\" ...</td>\n",
       "      <td>2022-04-15</td>\n",
       "      <td>0.7351</td>\n",
       "      <td>0.188</td>\n",
       "      <td>0.000</td>\n",
       "      <td>0.812</td>\n",
       "      <td>[opera, launched, dedicated, crypto, browser, ...</td>\n",
       "    </tr>\n",
       "    <tr>\n",
       "      <th>4</th>\n",
       "      <td>April 5 (Reuters) - Ethereum blockchain scalin...</td>\n",
       "      <td>2022-04-05</td>\n",
       "      <td>0.0000</td>\n",
       "      <td>0.000</td>\n",
       "      <td>0.000</td>\n",
       "      <td>1.000</td>\n",
       "      <td>[april, reuters, ethereum, blockchain, scaling...</td>\n",
       "    </tr>\n",
       "  </tbody>\n",
       "</table>\n",
       "</div>"
      ],
      "text/plain": [
       "                                                text        date  compound  \\\n",
       "0  The US Department of Treasury says Lazarus is ...  2022-04-14   -0.7845   \n",
       "1  18 with 15 posters participating, including st...  2022-04-13    0.1027   \n",
       "2  This week, the cryptocurrency network Ronin di...  2022-04-03   -0.4215   \n",
       "3  Opera launched its dedicated \"Crypto Browser\" ...  2022-04-15    0.7351   \n",
       "4  April 5 (Reuters) - Ethereum blockchain scalin...  2022-04-05    0.0000   \n",
       "\n",
       "   positive  negative  neutral  \\\n",
       "0     0.088     0.231    0.681   \n",
       "1     0.084     0.071    0.844   \n",
       "2     0.051     0.098    0.851   \n",
       "3     0.188     0.000    0.812   \n",
       "4     0.000     0.000    1.000   \n",
       "\n",
       "                                              tokens  \n",
       "0  [us, department, treasury, say, lazarus, behin...  \n",
       "1  [poster, participating, including, story, auth...  \n",
       "2  [week, cryptocurrency, network, ronin, disclos...  \n",
       "3  [opera, launched, dedicated, crypto, browser, ...  \n",
       "4  [april, reuters, ethereum, blockchain, scaling...  "
      ]
     },
     "execution_count": 48,
     "metadata": {},
     "output_type": "execute_result"
    }
   ],
   "source": [
    "# Create a new tokens column for Ethereum\n",
    "ethereum_df['tokens'] = ethereum_df['text'].fillna('').apply(tokenizer)\n",
    "ethereum_df.head()"
   ]
  },
  {
   "cell_type": "markdown",
   "metadata": {},
   "source": [
    "---"
   ]
  },
  {
   "cell_type": "markdown",
   "metadata": {},
   "source": [
    "### NGrams and Frequency Analysis\n",
    "\n",
    "In this section you will look at the ngrams and word frequency for each coin. \n",
    "\n",
    "1. Use NLTK to produce the n-grams for N = 2. \n",
    "2. List the top 10 words for each coin. "
   ]
  },
  {
   "cell_type": "code",
   "execution_count": 17,
   "metadata": {},
   "outputs": [],
   "source": [
    "from collections import Counter\n",
    "from nltk import ngrams"
   ]
  },
  {
   "cell_type": "code",
   "execution_count": 49,
   "metadata": {},
   "outputs": [
    {
     "name": "stdout",
     "output_type": "stream",
     "text": [
      "{('us', 'department'): 2, ('department', 'treasury'): 1, ('treasury', 'say'): 1, ('say', 'lazarus'): 1, ('lazarus', 'behind'): 1, ('behind', 'attackthe'): 1, ('attackthe', 'us'): 1, ('us', 'treasury'): 4, ('treasury', 'department'): 4, ('department', 'blame'): 1, ('blame', 'north'): 1, ('north', 'korean'): 6, ('korean', 'hacking'): 2, ('hacking', 'group'): 2, ('group', 'lazarus'): 2, ('lazarus', 'stealing'): 1, ('stealing', 'million'): 1, ('million', 'cryptocurrency'): 2, ('cryptocurrency', 'ronin'): 1, ('ronin', 'networ'): 1, ('networ', 'char'): 1, ('char', 'poster'): 1, ('poster', 'participating'): 1, ('participating', 'including'): 1, ('including', 'story'): 1, ('story', 'authormore'): 1, ('authormore', 'longtime'): 1, ('longtime', 'wikipedia'): 2, ('wikipedia', 'editor'): 2, ('editor', 'requested'): 2, ('requested', 'wikimedia'): 2, ('wikimedia', 'foundation'): 2, ('foundation', 'stop'): 2, ('stop', 'accepting'): 2, ('accepting', 'cryptocurrency'): 2, ('cryptocurrency', 'donationsthe'): 1, ('donationsthe', 'foundatio'): 1, ('foundatio', 'char'): 1, ('char', 'week'): 3, ('week', 'cryptocurrency'): 1, ('cryptocurrency', 'network'): 2, ('network', 'ronin'): 2, ('ronin', 'disclosed'): 1, ('disclosed', 'breach'): 1, ('breach', 'attacker'): 1, ('attacker', 'made'): 1, ('made', 'million'): 1, ('million', 'worth'): 1, ('worth', 'ethereum'): 1, ('ethereum', 'usdc'): 1, ('usdc', 'stablecoin'): 1, ('stablecoin', 'incident'): 1, ('incident', 'one'): 1, ('one', 'biggest'): 1, ('biggest', 'heist'): 1, ('heist', 'char'): 1, ('char', 'opera'): 1, ('opera', 'launched'): 1, ('launched', 'dedicated'): 1, ('dedicated', 'crypto'): 1, ('crypto', 'browser'): 2, ('browser', 'beta'): 1, ('beta', 'back'): 1, ('back', 'january'): 1, ('january', 'promising'): 1, ('promising', 'make'): 1, ('make', 'web'): 1, ('web', 'accessible'): 1, ('accessible', 'web'): 1, ('web', 'website'): 1, ('website', 'company'): 1, ('company', 'released'): 1, ('released', 'browser'): 1, ('browser', 'windows'): 1, ('windows', 'mac'): 1, ('mac', 'android'): 1, ('android', 'user'): 1, ('user', 'char'): 1, ('char', 'april'): 7, ('april', 'reuters'): 8, ('reuters', 'ethereum'): 1, ('ethereum', 'blockchain'): 2, ('blockchain', 'scaling'): 1, ('scaling', 'platform'): 1, ('platform', 'boba'): 1, ('boba', 'network'): 1, ('network', 'raised'): 1, ('raised', 'million'): 1, ('million', 'series'): 1, ('series', 'round'): 1, ('round', 'participation'): 1, ('participation', 'investor'): 1, ('investor', 'including'): 1, ('including', 'smithled'): 1, ('smithled', 'dreamers'): 1, ('dreamers', 'vc'): 1, ('vc', 'paris'): 1, ('paris', 'hilton'): 1, ('hilton', 'char'): 1, ('char', 'newsa'): 1, ('newsa', 'former'): 1, ('former', 'developer'): 1, ('developer', 'cryptocurrency'): 1, ('cryptocurrency', 'ethereum'): 1, ('ethereum', 'wa'): 1, ('wa', 'sentenced'): 2, ('sentenced', 'five'): 2, ('five', 'year'): 5, ('year', 'prison'): 1, ('prison', 'fined'): 1, ('fined', 'forhelping'): 1, ('forhelping', 'north'): 1, ('north', 'korea'): 3, ('korea', 'use'): 1, ('use', 'cryptos'): 1, ('cryptos', 'evade'): 1, ('evade', 'us'): 2, ('us', 'sanctionsper'): 1, ('sanctionsper', 'nbc'): 1, ('nbc', 'news'): 1, ('news', 'char'): 1, ('reuters', 'ether'): 1, ('ether', 'ha'): 1, ('ha', 'promised'): 2, ('promised', 'better'): 1, ('better', 'ha'): 1, ('promised', 'go'): 1, ('go', 'next'): 1, ('next', 'level'): 2, ('level', 'edging'): 1, ('edging', 'crypto'): 1, ('crypto', 'rival'): 1, ('rival', 'even'): 1, ('even', 'outshining'): 1, ('outshining', 'godfather'): 1, ('godfather', 'bitcoin'): 1, ('bitcoin', 'clock'): 1, ('clock', 'tickingthe'): 1, ('tickingthe', 'char'): 1, ('char', 'regulatory'): 1, ('regulatory', 'solution'): 1, ('solution', 'codified'): 1, ('codified', 'regionally'): 1, ('regionally', 'internationally'): 1, ('internationally', 'compatible'): 1, ('compatible', 'language'): 1, ('language', 'legal'): 1, ('legal', 'definition'): 1, ('definition', 'policy'): 1, ('policy', 'solution'): 1, ('solution', 'like'): 1, ('like', 'online'): 1, ('online', 'harm'): 1, ('harm', 'safety'): 1, ('safety', 'bill'): 1, ('bill', 'could'): 1, ('could', 'used'): 1, ('used', 'expand'): 1, ('expand', 'r'): 1, ('r', 'char'): 1, ('char', 'ethereum'): 1, ('ethereum', 'preparing'): 1, ('preparing', 'upgrade'): 1, ('upgrade', 'thats'): 1, ('thats', 'described'): 1, ('described', 'single'): 1, ('single', 'important'): 1, ('important', 'event'): 1, ('event', 'crypto'): 1, ('crypto', 'historythe'): 1, ('historythe', 'transition'): 1, ('transition', 'would'): 1, ('would', 'overhaul'): 1, ('overhaul', 'infrastructure'): 1, ('infrastructure', 'world'): 1, ('world', 'secondlargest'): 1, ('secondlargest', 'blockcha'): 1, ('blockcha', 'char'): 1, ('char', 'brave'): 1, ('brave', 'browser'): 1, ('browser', 'promotes'): 1, ('promotes', 'google'): 1, ('google', 'chrome'): 1, ('chrome', 'alternative'): 1, ('alternative', 'focused'): 1, ('focused', 'privacy'): 1, ('privacy', 'default'): 1, ('default', 'setting'): 1, ('setting', 'arent'): 1, ('arent', 'privacy'): 1, ('privacy', 'friendly'): 1, ('friendly', 'need'): 1, ('need', 'use'): 1, ('use', 'chromebased'): 1, ('chromebased', 'browser'): 1, ('browser', 'brave'): 1, ('brave', 'defi'): 1, ('defi', 'char'): 1, ('char', 'dogecoiners'): 1, ('dogecoiners', 'unite'): 1, ('unite', 'movie'): 1, ('movie', 'theater'): 1, ('theater', 'chain'): 1, ('chain', 'amc'): 1, ('amc', 'ha'): 1, ('ha', 'welcomed'): 1, ('welcomed', 'cryptocurrencies'): 1, ('cryptocurrencies', 'payment'): 1, ('payment', 'option'): 1, ('option', 'online'): 1, ('online', 'mobile'): 1, ('mobile', 'purchase'): 1, ('purchase', 'tweet'): 1, ('tweet', 'april'): 1, ('april', 'amc'): 1, ('amc', 'ceo'): 1, ('ceo', 'adam'): 1, ('adam', 'aron'): 1, ('aron', 'announced'): 1, ('announced', 'moviego'): 1, ('moviego', 'char'): 1, ('char', 'theres'): 1, ('theres', 'new'): 1, ('new', 'metaverse'): 1, ('metaverse', 'project'): 1, ('project', 'creator'): 1, ('creator', 'bored'): 1, ('bored', 'apes'): 1, ('apes', 'yacht'): 1, ('yacht', 'club'): 2, ('club', 'nfts'): 1, ('nfts', 'last'): 1, ('last', 'night'): 1, ('night', 'held'): 1, ('held', 'virtual'): 1, ('virtual', 'land'): 1, ('land', 'sale'): 1, ('sale', 'report'): 1, ('report', 'bloomberg'): 1, ('bloomberg', 'raising'): 1, ('raising', 'nearly'): 1, ('nearly', 'third'): 1, ('third', 'billion'): 1, ('billion', 'dollarsat'): 1, ('dollarsat', 'ab'): 1, ('ab', 'char'): 1, ('char', 'early'): 1, ('early', 'week'): 1, ('week', 'ukrainian'): 1, ('ukrainian', 'computer'): 1, ('computer', 'emergency'): 1, ('emergency', 'response'): 1, ('response', 'team'): 1, ('team', 'slovakian'): 1, ('slovakian', 'cybersecurity'): 1, ('cybersecurity', 'firm'): 1, ('firm', 'eset'): 1, ('eset', 'warned'): 1, ('warned', 'russias'): 1, ('russias', 'notorious'): 1, ('notorious', 'gru'): 1, ('gru', 'sandworm'): 1, ('sandworm', 'hacker'): 1, ('hacker', 'targeted'): 1, ('targeted', 'highvoltage'): 1, ('highvoltage', 'electrical'): 1, ('electrical', 'substati'): 1, ('substati', 'char'): 1, ('char', 'one'): 1, ('one', 'leading'): 1, ('leading', 'ethereum'): 1, ('ethereum', 'software'): 1, ('software', 'developer'): 1, ('developer', 'said'): 1, ('said', 'blockchain'): 1, ('blockchain', 'network'): 1, ('network', 'muchanticipated'): 1, ('muchanticipated', 'technical'): 1, ('technical', 'upgrade'): 1, ('upgrade', 'known'): 1, ('known', 'merge'): 1, ('merge', 'likely'): 1, ('likely', 'completed'): 1, ('completed', 'month'): 1, ('month', 'junethe'): 1, ('junethe', 'comment'): 1, ('comment', 'help'): 1, ('help', 'char'): 1, ('char', 'first'): 1, ('first', 'wrote'): 1, ('wrote', 'problem'): 1, ('problem', 'bot'): 1, ('bot', 'frontrunning'): 1, ('frontrunning', 'transaction'): 1, ('transaction', 'year'): 1, ('year', 'half'): 1, ('half', 'ago'): 1, ('ago', 'order'): 1, ('order', 'flow'): 1, ('flow', 'citing'): 1, ('citing', 'dan'): 1, ('dan', 'robinson'): 1, ('robinson', 'georgios'): 1, ('georgios', 'konstantopoulosethereum'): 1, ('konstantopoulosethereum', 'dark'): 1, ('dark', 'forest'): 1, ('forest', 'august'): 1, ('august', 'char'): 1, ('reuters', 'bitcoin'): 1, ('bitcoin', 'dropped'): 1, ('dropped', 'tuesday'): 1, ('tuesday', 'previous'): 1, ('previous', 'closebitcoin'): 1, ('closebitcoin', 'world'): 1, ('world', 'biggest'): 1, ('biggest', 'bestknown'): 1, ('bestknown', 'cryptocurrency'): 1, ('cryptocurrency', 'year'): 1, ('year', 'low'): 1, ('low', 'char'): 1, ('char', 'cryptocurrency'): 3, ('cryptocurrency', 'boom'): 1, ('boom', 'past'): 1, ('past', 'year'): 2, ('year', 'ha'): 1, ('ha', 'helped'): 1, ('helped', 'propel'): 1, ('propel', 'newer'): 1, ('newer', 'market'): 1, ('market', 'record'): 1, ('record', 'height'): 1, ('height', 'digital'): 1, ('digital', 'collectible'): 1, ('collectible', 'known'): 1, ('known', 'nftsthe'): 1, ('nftsthe', 'craze'): 1, ('craze', 'ha'): 1, ('ha', 'pushed'): 2, ('pushed', 'total'): 1, ('total', 'nft'): 1, ('nft', 'sale'): 1, ('sale', 'volume'): 1, ('volume', 'billion'): 1, ('billion', 'ov'): 1, ('ov', 'char'): 1, ('reuters', 'former'): 1, ('former', 'researcher'): 1, ('researcher', 'highprofile'): 1, ('highprofile', 'cryptocurrency'): 1, ('cryptocurrency', 'group'): 1, ('group', 'wa'): 1, ('year', 'three'): 2, ('three', 'month'): 2, ('month', 'prison'): 2, ('prison', 'tuesday'): 1, ('tuesday', 'conspiring'): 1, ('conspiring', 'help'): 1, ('help', 'north'): 1, ('korea', 'evade'): 1, ('us', 'sanctio'): 1, ('sanctio', 'char'): 1, ('char', 'chief'): 1, ('chief', 'product'): 1, ('product', 'officer'): 1, ('officer', 'aparna'): 1, ('aparna', 'chennapragada'): 1, ('chennapragada', 'made'): 1, ('made', 'announcement'): 1, ('announcement', 'stage'): 1, ('stage', 'bitcoin'): 1, ('bitcoin', 'conference'): 2, ('conference', 'miami'): 1, ('miami', 'handful'): 1, ('handful', 'wallet'): 1, ('wallet', 'beta'): 1, ('beta', 'tester'): 1, ('tester', 'could'): 1, ('could', 'move'): 1, ('move', 'bitcoin'): 1, ('bitcoin', 'btc'): 2, ('btc', 'ether'): 1, ('ether', 'eth'): 1, ('eth', 'dogecoi'): 1, ('dogecoi', 'char'): 1, ('char', 'excited'): 2, ('excited', 'bring'): 2, ('bring', 'transform'): 2, ('transform', 'back'): 2, ('back', 'inperson'): 2, ('inperson', 'july'): 2, ('july', 'virtually'): 2, ('virtually', 'july'): 2, ('july', 'join'): 2, ('join', 'ai'): 2, ('ai', 'data'): 2, ('data', 'leader'): 2, ('leader', 'insightful'): 2, ('insightful', 'talk'): 2, ('talk', 'exciting'): 2, ('exciting', 'networking'): 2, ('networking', 'opportunity'): 2, ('opportunity', 'register'): 2, ('register', 'todaya'): 1, ('todaya', 'coali'): 1, ('coali', 'char'): 1, ('char', 'went'): 1, ('went', 'renew'): 1, ('renew', 'eth'): 1, ('eth', 'domain'): 1, ('domain', 'morning'): 1, ('morning', 'gas'): 1, ('gas', 'fee'): 1, ('fee', 'high'): 1, ('high', 'decided'): 1, ('decided', 'come'): 1, ('come', 'back'): 1, ('back', 'timeethereum'): 1, ('timeethereum', 'popular'): 1, ('popular', 'smart'): 1, ('smart', 'contract'): 3, ('contract', 'blockchain'): 1, ('blockchain', 'far'): 1, ('far', 'frequent'): 1, ('frequent', 'char'): 1, ('char', 'advocate'): 1, ('advocate', 'believed'): 1, ('believed', 'web'): 1, ('web', 'freedom'): 1, ('freedom', 'democracy'): 1, ('democracy', 'ownership'): 1, ('ownership', 'idealistic'): 1, ('idealistic', 'version'): 1, ('version', 'web'): 1, ('web', 'built'): 1, ('built', 'user'): 1, ('user', 'theoretically'): 1, ('theoretically', 'theyre'): 1, ('theyre', 'wrong'): 1, ('wrong', 'web'): 1, ('web', 'still'): 1, ('still', 'development'): 1, ('development', 'char'): 1, ('cryptocurrency', 'world'): 1, ('world', 'alltime'): 1, ('alltime', 'high'): 1, ('high', 'great'): 1, ('great', 'time'): 1, ('time', 'look'): 4, ('look', 'best'): 1, ('best', 'cryptocurrency'): 1, ('cryptocurrency', 'industry'): 1, ('industry', 'find'): 1, ('find', 'one'): 1, ('one', 'invest'): 1, ('invest', 'additionally'): 1, ('additionally', 'also'): 1, ('also', 'cash'): 1, ('cash', 'tre'): 1, ('tre', 'char'): 1, ('reuters', 'twitter'): 1, ('twitter', 'inc'): 1, ('inc', 'twtrn'): 1, ('twtrn', 'digital'): 1, ('digital', 'payment'): 1, ('payment', 'processor'): 2, ('processor', 'stripe'): 2, ('stripe', 'inc'): 1, ('inc', 'pilot'): 1, ('pilot', 'cryptocurrency'): 1, ('cryptocurrency', 'payouts'): 1, ('payouts', 'select'): 1, ('select', 'user'): 1, ('user', 'social'): 1, ('social', 'medium'): 2, ('medium', 'site'): 1, ('site', 'content'): 1, ('content', 'monetization'): 1, ('monetization', 'product'): 1, ('product', 'co'): 1, ('co', 'char'): 1, ('week', 'fbi'): 1, ('fbi', 'released'): 1, ('released', 'statement'): 1, ('statement', 'assigning'): 1, ('assigning', 'blame'): 1, ('blame', 'recent'): 1, ('recent', 'ronin'): 1, ('ronin', 'bridge'): 1, ('bridge', 'hack'): 1, ('hack', 'largest'): 1, ('largest', 'known'): 1, ('known', 'instance'): 1, ('instance', 'cryptocurrency'): 1, ('cryptocurrency', 'hacking'): 1, ('hacking', 'infamous'): 1, ('infamous', 'north'): 1, ('korean', 'associated'): 1, ('associated', 'hacking'): 1, ('hacking', 'organizat'): 1, ('organizat', 'char'): 1, ('char', 'us'): 6, ('department', 'justice'): 1, ('justice', 'accused'): 1, ('accused', 'two'): 1, ('two', 'european'): 1, ('european', 'citizen'): 1, ('citizen', 'money'): 1, ('money', 'laundering'): 1, ('laundering', 'role'): 1, ('role', 'helping'): 1, ('helping', 'north'): 1, ('korean', 'government'): 1, ('government', 'organize'): 1, ('organize', 'cryptocurrency'): 1, ('cryptocurrency', 'conference'): 1, ('conference', 'one'): 1, ('one', 'men'): 1, ('men', 'char'): 1, ('char', 'bottom'): 2, ('bottom', 'line'): 2, ('line', 'etoro'): 2, ('etoro', 'best'): 2, ('best', 'choice'): 1, ('choice', 'cryptofocused'): 1, ('cryptofocused', 'communityoriented'): 1, ('communityoriented', 'trader'): 1, ('trader', 'offer'): 1, ('offer', 'asset'): 1, ('asset', 'including'): 1, ('including', 'automated'): 1, ('automated', 'investing'): 1, ('investing', 'option'): 1, ('option', 'like'): 1, ('like', 'copyportfolios'): 1, ('copyportfolios', 'copytrader'): 1, ('copytrader', 'system'): 1, ('system', 'char'): 1, ('char', 'representations'): 1, ('representations', 'cryptocurrencies'): 1, ('cryptocurrencies', 'bitcoin'): 1, ('bitcoin', 'ethereum'): 1, ('ethereum', 'dogecoin'): 1, ('dogecoin', 'ripple'): 1, ('ripple', 'litecoin'): 1, ('litecoin', 'placed'): 1, ('placed', 'pc'): 1, ('pc', 'motherboard'): 1, ('motherboard', 'illustration'): 1, ('illustration', 'taken'): 1, ('taken', 'june'): 1, ('june', 'reutersdado'): 1, ('reutersdado', 'ruvicillustrationfile'): 1, ('ruvicillustrationfile', 'photofi'): 1, ('photofi', 'char'): 1, ('char', 'fast'): 1, ('fast', 'companyreviews'): 1, ('companyreviews', 'bitcoin'): 1, ('conference', 'held'): 1, ('held', 'miami'): 1, ('miami', 'week'): 1, ('week', 'arguing'): 1, ('arguing', 'wa'): 1, ('wa', 'actually'): 1, ('actually', 'ethereum'): 1, ('ethereum', 'sparked'): 1, ('sparked', 'boom'): 1, ('boom', 'cryptocurrenies'): 1, ('cryptocurrenies', 'nfts'): 1, ('nfts', 'daos'): 1, ('daos', 'ethereum'): 1, ('ethereum', 'sti'): 1, ('sti', 'char'): 1, ('char', 'cryptocurrencies'): 3, ('cryptocurrencies', 'like'): 1, ('like', 'bitcoin'): 1, ('bitcoin', 'btcusd'): 1, ('btcusd', 'ether'): 1, ('ether', 'ethusd'): 1, ('ethusd', 'exploded'): 1, ('exploded', 'popularity'): 1, ('popularity', 'recent'): 1, ('recent', 'year'): 2, ('year', 'traded'): 1, ('traded', 'individual'): 1, ('individual', 'investor'): 1, ('investor', 'company'): 1, ('company', 'likecit'): 1, ('likecit', 'char'): 1, ('char', 'late'): 1, ('late', 'last'): 1, ('last', 'month'): 2, ('month', 'hacker'): 1, ('hacker', 'made'): 1, ('made', 'wa'): 1, ('wa', 'worth'): 1, ('worth', 'system'): 1, ('system', 'cryptocurrency'): 1, ('ronin', 'believed'): 1, ('believed', 'secondlargest'): 1, ('secondlargest', 'cryptocurrency'): 1, ('cryptocurrency', 'theft'): 1, ('theft', 'recor'): 1, ('recor', 'char'): 1, ('char', 'like'): 1, ('like', 'traditional'): 1, ('traditional', 'computer'): 1, ('computer', 'network'): 1, ('network', 'blockchain'): 1, ('blockchain', 'protocol'): 1, ('protocol', 'ha'): 1, ('ha', 'different'): 1, ('different', 'capacity'): 1, ('capacity', 'tolerance'): 1, ('tolerance', 'much'): 1, ('much', 'traffic'): 1, ('traffic', 'take'): 1, ('take', 'become'): 1, ('become', 'congested'): 1, ('congested', 'turn'): 1, ('turn', 'traffic'): 1, ('traffic', 'char'): 1, ('char', 'link'): 1, ('link', 'bio'): 1, ('bio', 'commonly'): 1, ('commonly', 'repeated'): 1, ('repeated', 'phrase'): 1, ('phrase', 'social'): 1, ('medium', 'often'): 1, ('often', 'encountered'): 1, ('encountered', 'scrolling'): 1, ('scrolling', 'tiktok'): 1, ('tiktok', 'halfreading'): 1, ('halfreading', 'instagram'): 1, ('instagram', 'caption'): 1, ('caption', 'listening'): 1, ('listening', 'youtube'): 1, ('youtube', 'video'): 1, ('video', 'bio'): 1, ('bio', 'refers'): 1, ('refers', 'char'): 1, ('char', 'mockup'): 1, ('mockup', 'ethereum'): 1, ('ethereum', 'digital'): 1, ('digital', 'coinnurphotoa'): 1, ('coinnurphotoa', 'major'): 1, ('major', 'upgrade'): 1, ('upgrade', 'ethereum'): 1, ('ethereum', 'network'): 1, ('network', 'consume'): 1, ('consume', 'far'): 1, ('far', 'le'): 1, ('le', 'energy'): 1, ('energy', 'ha'): 1, ('pushed', 'back'): 1, ('back', 'confirmed'): 1, ('confirmed', 'tweet'): 1, ('tweet', 'ethereum'): 1, ('ethereum', 'developer'): 2, ('developer', 'tim'): 1, ('tim', 'char'): 1, ('char', 'longtime'): 1, ('cryptocurrency', 'donation'): 1, ('donation', 'foundation'): 1, ('foundation', 'received'): 1, ('received', 'crypto'): 1, ('crypto', 'donation'): 1, ('donation', 'worth'): 1, ('worth', 'mo'): 1, ('mo', 'char'): 2, ('char', 'digital'): 1, ('digital', 'transformation'): 1, ('transformation', 'disrupting'): 1, ('disrupting', 'global'): 1, ('global', 'business'): 1, ('business', 'legal'): 1, ('legal', 'industry'): 1, ('industry', 'must'): 1, ('must', 'consider'): 1, ('consider', 'digital'): 1, ('digital', 'technology'): 1, ('technology', 'keep'): 1, ('keep', 'changing'): 1, ('changing', 'tech'): 1, ('tech', 'trend'): 1, ('trend', 'blockchainbased'): 1, ('blockchainbased', 'smart'): 1, ('contract', 'one'): 1, ('one', 'example'): 1, ('example', 'te'): 1, ('te', 'char'): 1, ('char', 'dirk'): 1, ('dirk', 'hohndel'): 1, ('hohndel', 'get'): 1, ('get', 'frequentlymentioned'): 1, ('frequentlymentioned', 'slashdot'): 1, ('slashdot', 'wa'): 1, ('wa', 'early'): 1, ('early', 'contributor'): 1, ('contributor', 'linux'): 1, ('linux', 'last'): 1, ('last', 'five'): 1, ('year', 'chief'): 1, ('chief', 'open'): 1, ('open', 'source'): 1, ('source', 'officer'): 1, ('officer', 'vice'): 1, ('vice', 'president'): 1, ('president', 'vmware'): 1, ('vmware', 'also'): 1, ('also', 'char'): 1, ('department', 'added'): 1, ('added', 'ethereum'): 1, ('ethereum', 'address'): 1, ('address', 'linked'): 1, ('linked', 'recent'): 1, ('recent', 'hack'): 1, ('hack', 'crypto'): 1, ('crypto', 'platform'): 1, ('platform', 'affiliated'): 1, ('affiliated', 'playtoearn'): 1, ('playtoearn', 'game'): 1, ('game', 'axie'): 2, ('axie', 'infinity'): 4, ('infinity', 'north'): 1, ('korean', 'sanction'): 1, ('sanction', 'list'): 1, ('list', 'thursday'): 1, ('thursday', 'char'): 2, ('char', 'know'): 1, ('know', 'known'): 1, ('known', 'use'): 1, ('use', 'blockchain'): 1, ('blockchain', 'technology'): 1, ('technology', 'cryptocurrencyof'): 1, ('cryptocurrencyof', 'course'): 1, ('course', 'isnt'): 1, ('isnt', 'though'): 1, ('though', 'weve'): 1, ('weve', 'seen'): 1, ('seen', 'nfts'): 1, ('nfts', 'nonfungible'): 2, ('nonfungible', 'token'): 3, ('token', 'part'): 1, ('part', 'ethereum'): 1, ('ethereum', 'char'): 1, ('char', 'investment'): 1, ('investment', 'firm'): 1, ('firm', 'bought'): 1, ('bought', 'acre'): 1, ('acre', 'real'): 1, ('real', 'estate'): 1, ('estate', 'us'): 1, ('us', 'million'): 1, ('million', 'normally'): 1, ('normally', 'would'): 1, ('would', 'make'): 1, ('make', 'headline'): 1, ('headline', 'case'): 1, ('case', 'land'): 1, ('land', 'wa'): 1, ('wa', 'virtual'): 1, ('virtual', 'existed'): 1, ('existed', 'metaverse'): 1, ('metaverse', 'pla'): 1, ('pla', 'char'): 1, ('char', 'past'): 1, ('year', 'tech'): 1, ('tech', 'world'): 1, ('world', 'ha'): 1, ('ha', 'experienced'): 1, ('experienced', 'rapid'): 1, ('rapid', 'evolution'): 1, ('evolution', 'spearheaded'): 1, ('spearheaded', 'large'): 1, ('large', 'part'): 1, ('part', 'blockchain'): 1, ('blockchain', 'evolution'): 1, ('evolution', 'precipice'): 1, ('precipice', 'revolution'): 1, ('revolution', 'nfts'): 1, ('nfts', 'metaverse'): 1, ('metaverse', 'char'): 2, ('department', 'ha'): 2, ('ha', 'tied'): 1, ('tied', 'north'): 2, ('lazarus', 'theft'): 1, ('theft', 'million'): 2, ('cryptocurrency', 'software'): 1, ('software', 'bridge'): 1, ('bridge', 'used'): 1, ('used', 'popular'): 1, ('popular', 'axie'): 1, ('infinity', 'playto'): 1, ('playto', 'char'): 1, ('char', 'heres'): 1, ('heres', 'happened'): 1, ('happened', 'week'): 1, ('week', 'world'): 1, ('world', 'cryptogetty'): 1, ('cryptogetty', 'imageswelcome'): 1, ('imageswelcome', 'nonfungible'): 1, ('nonfungible', 'tidbits'): 1, ('tidbits', 'weekly'): 1, ('weekly', 'roundup'): 1, ('roundup', 'news'): 1, ('news', 'crypto'): 1, ('crypto', 'nfts'): 1, ('nfts', 'related'): 1, ('related', 'realmsour'): 1, ('realmsour', 'lead'): 1, ('lead', 'story'): 1, ('story', 'week'): 1, ('week', 'show'): 1, ('show', 'char'): 1, ('char', 'somnium'): 1, ('somnium', 'spaces'): 1, ('spaces', 'upcoming'): 1, ('upcoming', 'live'): 1, ('live', 'forever'): 1, ('forever', 'feature'): 1, ('feature', 'would'): 1, ('would', 'recreate'): 1, ('recreate', 'user'): 1, ('user', 'persona'): 1, ('persona', 'metaverse'): 1, ('metaverse', 'using'): 1, ('using', 'massive'): 1, ('massive', 'amount'): 1, ('amount', 'personal'): 1, ('personal', 'data'): 1, ('data', 'accumulated'): 1, ('accumulated', 'yearssomnium'): 1, ('yearssomnium', 'spaceit'): 1, ('spaceit', 'wa'): 1, ('wa', 'matter'): 1, ('matter', 'char'): 1, ('char', 'despite'): 1, ('despite', 'fury'): 1, ('fury', 'seems'): 1, ('seems', 'exist'): 1, ('exist', 'around'): 1, ('around', 'nfts'): 1, ('token', 'cryptographic'): 1, ('cryptographic', 'asset'): 1, ('asset', 'represent'): 1, ('represent', 'something'): 1, ('something', 'unique'): 1, ('unique', 'market'): 1, ('market', 'ha'): 1, ('ha', 'slowed'): 1, ('slowed', 'opensea'): 1, ('opensea', 'one'): 1, ('one', 'char'): 1, ('etoro', 'coinbase'): 1, ('coinbase', 'great'): 1, ('great', 'beginner'): 1, ('beginner', 'crypto'): 1, ('crypto', 'trader'): 1, ('trader', 'etoro'): 1, ('best', 'option'): 1, ('option', 'value'): 1, ('value', 'social'): 1, ('social', 'trading'): 1, ('trading', 'feature'): 1, ('feature', 'handsoff'): 1, ('handsoff', 'investment'): 1, ('investment', 'option'): 1, ('option', 'flexible'): 1, ('flexible', 'asset'): 1, ('asset', 'char'): 1, ('reuters', 'sharp'): 1, ('sharp', 'drop'): 1, ('drop', 'graphic'): 1, ('graphic', 'chip'): 1, ('chip', 'price'): 1, ('price', 'could'): 1, ('could', 'presage'): 1, ('presage', 'unexpectedly'): 1, ('unexpectedly', 'quick'): 1, ('quick', 'ending'): 1, ('ending', 'global'): 1, ('global', 'chip'): 1, ('chip', 'crunch'): 1, ('crunch', 'ha'): 1, ('ha', 'crippled'): 1, ('crippled', 'manufacturing'): 1, ('manufacturing', 'smartphones'): 1, ('smartphones', 'car'): 1, ('car', 'issue'): 1, ('issue', 'wil'): 1, ('wil', 'char'): 1, ('char', 'want'): 4, ('want', 'pay'): 1, ('pay', 'online'): 1, ('online', 'need'): 1, ('need', 'register'): 1, ('register', 'account'): 1, ('account', 'provide'): 1, ('provide', 'credit'): 1, ('credit', 'card'): 2, ('card', 'information'): 1, ('information', 'dont'): 1, ('dont', 'credit'): 1, ('card', 'pay'): 1, ('pay', 'bank'): 1, ('bank', 'transfer'): 1, ('transfer', 'rise'): 1, ('rise', 'cryptocurrencies'): 1, ('cryptocurrencies', 'char'): 2, ('us', 'authority'): 1, ('authority', 'week'): 1, ('week', 'tied'): 1, ('korean', 'hacker'): 1, ('hacker', 'historic'): 1, ('historic', 'million'): 1, ('million', 'axie'): 1, ('infinity', 'crypto'): 1, ('crypto', 'swindle'): 1, ('swindle', 'massive'): 1, ('massive', 'hack'): 1, ('hack', 'signifying'): 1, ('signifying', 'emergence'): 1, ('emergence', 'new'): 1, ('new', 'type'): 1, ('type', 'national'): 1, ('national', 'security'): 1, ('security', 'threat'): 1, ('threat', 'char'): 1, ('char', 'world'): 2, ('world', 'centralized'): 1, ('centralized', 'finance'): 1, ('finance', 'struggling'): 1, ('struggling', 'decentralized'): 1, ('decentralized', 'economics'): 1, ('economics', 'taking'): 1, ('taking', 'rein'): 1, ('rein', 'also'): 1, ('also', 'known'): 1, ('known', 'defi'): 1, ('defi', 'exciting'): 1, ('exciting', 'new'): 1, ('new', 'development'): 1, ('development', 'made'): 1, ('made', 'variety'): 1, ('variety', 'application'): 1, ('application', 'run'): 1, ('run', 'char'): 1, ('char', 'picture'): 1, ('picture', 'youre'): 1, ('youre', 'mars'): 1, ('mars', 'house'): 1, ('house', 'scenario'): 1, ('scenario', 'sun'): 1, ('sun', 'setting'): 1, ('setting', 'otherworldly'): 1, ('otherworldly', 'red'): 1, ('red', 'planet'): 1, ('planet', 'skythrowing'): 1, ('skythrowing', 'incredible'): 1, ('incredible', 'shade'): 1, ('shade', 'brilliance'): 1, ('brilliance', 'eye'): 1, ('eye', 'blindin'): 1, ('blindin', 'char'): 1, ('char', 'editors'): 1, ('editors', 'note'): 1, ('note', 'second'): 1, ('second', 'fake'): 1, ('fake', 'iteration'): 1, ('iteration', 'column'): 1, ('column', 'obviously'): 1, ('obviously', 'real'): 1, ('real', 'columnan'): 1, ('columnan', 'alert'): 1, ('alert', 'cisa'): 1, ('cisa', 'combined'): 1, ('combined', 'unsealed'): 1, ('unsealed', 'pair'): 1, ('pair', 'indictment'): 1, ('indictment', 'shed'): 1, ('shed', 'new'): 1, ('new', 'ligh'): 1, ('ligh', 'char'): 1, ('char', 'name'): 1, ('name', 'sam'): 1, ('sam', 'bankmanfried'): 1, ('bankmanfried', 'already'): 1, ('already', 'billionaire'): 1, ('billionaire', 'forbes'): 1, ('forbes', 'magazine'): 1, ('magazine', 'ha'): 1, ('ha', 'valued'): 1, ('valued', 'fortune'): 1, ('fortune', 'billion'): 1, ('billion', 'dollar'): 1, ('dollar', 'ha'): 1, ('ha', 'generated'): 1, ('generated', 'thanks'): 1, ('thanks', 'ftx'): 1, ('ftx', 'trading'): 1, ('trading', 'limited'): 1, ('limited', 'one'): 1, ('one', 'l'): 1, ('l', 'char'): 1, ('char', 'shares'): 1, ('shares', 'nvidia'): 1, ('nvidia', 'corp'): 1, ('corp', 'share'): 1, ('share', 'slipping'): 1, ('slipping', 'monday'): 1, ('monday', 'analyst'): 1, ('analyst', 'took'): 1, ('took', 'cautious'): 1, ('cautious', 'outlook'): 1, ('outlook', 'company'): 1, ('company', 'gaming'): 1, ('gaming', 'business'): 1, ('business', 'bairds'): 1, ('bairds', 'tristan'): 1, ('tristan', 'gerra'): 1, ('gerra', 'downgraded'): 1, ('downgraded', 'nvidias'): 1, ('nvidias', 'stock'): 1, ('stock', 'nvda'): 1, ('nvda', 'n'): 1, ('n', 'char'): 1, ('char', 'crypto'): 2, ('crypto', 'coming'): 1, ('coming', 'stripegettyonline'): 1, ('stripegettyonline', 'payment'): 1, ('stripe', 'said'): 1, ('said', 'friday'): 1, ('friday', 'allow'): 1, ('allow', 'business'): 1, ('business', 'beginning'): 1, ('beginning', 'twitter'): 1, ('twitter', 'start'): 1, ('start', 'paying'): 1, ('paying', 'customer'): 1, ('customer', 'cryptocurrenciesthe'): 1, ('cryptocurrenciesthe', 'payou'): 1, ('payou', 'char'): 1, ('char', 'coinbase'): 1, ('coinbase', 'testing'): 1, ('testing', 'nft'): 1, ('nft', 'water'): 1, ('water', 'ethereumsarah'): 1, ('ethereumsarah', 'tewcnetcoinbase'): 1, ('tewcnetcoinbase', 'ha'): 1, ('ha', 'nft'): 1, ('nft', 'marketplace'): 2, ('marketplace', 'running'): 1, ('running', 'beta'): 1, ('beta', 'mode'): 1, ('mode', 'company'): 1, ('company', 'shared'): 1, ('shared', 'blog'): 1, ('blog', 'post'): 1, ('post', 'wednesday'): 1, ('wednesday', 'last'): 1, ('last', 'fall'): 1, ('fall', 'platfo'): 1, ('platfo', 'char'): 1, ('char', 'last'): 2, ('last', 'week'): 2, ('week', 'web'): 1, ('web', 'space'): 1, ('space', 'wa'): 1, ('wa', 'rocked'): 1, ('rocked', 'yet'): 1, ('yet', 'major'): 1, ('major', 'hack'): 1, ('hack', 'thieves'): 1, ('thieves', 'took'): 1, ('took', 'around'): 1, ('around', 'million'): 1, ('million', 'blockchain'): 1, ('blockchain', 'bridge'): 1, ('bridge', 'underpins'): 1, ('underpins', 'axie'): 1, ('infinity', 'flagship'): 1, ('flagship', 'emerging'): 1, ('emerging', 'playtoearn'): 1, ('playtoearn', 'gamin'): 1, ('gamin', 'char'): 1, ('char', 'cybersecurity'): 2, ('cybersecurity', 'diveindepth'): 2, ('diveindepth', 'journalism'): 2, ('journalism', 'daily'): 2, ('daily', 'insight'): 2, ('insight', 'impactful'): 2, ('impactful', 'news'): 2, ('news', 'trend'): 2, ('trend', 'shaping'): 2, ('shaping', 'cybersecurity'): 2, ('cybersecurity', 'covering'): 2, ('covering', 'topic'): 2, ('topic', 'executive'): 2, ('executive', 'need'): 2, ('need', 'know'): 2, ('know', 'breach'): 2, ('breach', 'vulnerability'): 2, ('vulnerability', 'regulat'): 2, ('regulat', 'char'): 2, ('char', 'bloomberg'): 2, ('bloomberg', 'intelligence'): 4, ('intelligence', 'podcast'): 2, ('podcast', 'browse'): 2, ('browse', 'episodesin'): 2, ('episodesin', 'week'): 2, ('week', 'bloomberg'): 2, ('bloomberg', 'podcast'): 2, ('podcast', 'bloomberg'): 2, ('intelligence', 'analyst'): 2, ('analyst', 'discus'): 2, ('discus', 'finding'): 2, ('finding', 'impact'): 2, ('impact', 'researchactive'): 1, ('researchactive', 'share'): 1, ('share', 'replacing'): 1, ('replacing', 'alpha'): 1, ('alpha', 'char'): 1, ('world', 'struggle'): 1, ('struggle', 'significant'): 1, ('significant', 'environmental'): 1, ('environmental', 'change'): 1, ('change', 'due'): 1, ('due', 'industrial'): 1, ('industrial', 'pollution'): 1, ('pollution', 'fossil'): 1, ('fossil', 'fuel'): 1, ('fuel', 'primary'): 1, ('primary', 'reason'): 1, ('reason', 'climate'): 1, ('climate', 'change'): 1, ('change', 'cryptocurrency'): 1, ('cryptocurrency', 'ha'): 1, ('ha', 'become'): 1, ('become', 'discussion'): 1, ('discussion', 'clim'): 1, ('clim', 'char'): 1, ('impact', 'researchcoinbase'): 1, ('researchcoinbase', 'exchang'): 1, ('exchang', 'char'): 1, ('char', 'mike'): 1, ('mike', 'masnick'): 1, ('masnick', 'wrote'): 1, ('wrote', 'good'): 1, ('good', 'piece'): 1, ('piece', 'topic'): 1, ('topic', 'techdirt'): 1, ('techdirt', 'blog'): 1, ('blog', 'last'): 1, ('last', 'weeki'): 1, ('weeki', 'particularly'): 1, ('particularly', 'like'): 1, ('like', 'partfirst'): 1, ('partfirst', 'let'): 1, ('let', 'look'): 1, ('look', 'world'): 1, ('world', 'without'): 1, ('without', 'content'): 1, ('content', 'moderation'): 1, ('moderation', 'website'): 1, ('website', 'ha'): 1, ('ha', 'cont'): 1, ('cont', 'char'): 1, ('reuters', 'last'): 1, ('week', 'top'): 1, ('top', 'us'): 1, ('us', 'banking'): 1, ('banking', 'regulator'): 1, ('regulator', 'warned'): 1, ('warned', 'growing'): 1, ('growing', 'risk'): 1, ('risk', 'bank'): 1, ('bank', 'start'): 1, ('start', 'capitalize'): 1, ('capitalize', 'popularity'): 1, ('popularity', 'cryptocurrencies'): 1, ('cryptocurrencies', 'offer'): 1, ('offer', 'related'): 1, ('related', 'service'): 1, ('service', 'client'): 1, ('client', 'char'): 1, ('char', 'bangkok'): 1, ('bangkok', 'april'): 1, ('reuters', 'thai'): 1, ('thai', 'master'): 1, ('master', 'student'): 1, ('student', 'dhidhaj'): 1, ('dhidhaj', 'sumedhsvast'): 1, ('sumedhsvast', 'didnt'): 1, ('didnt', 'believe'): 1, ('believe', 'fortunetelling'): 1, ('fortunetelling', 'supernatural'): 1, ('supernatural', 'power'): 1, ('power', 'coronavirus'): 1, ('coronavirus', 'pandemic'): 1, ('pandemic', 'started'): 1, ('started', 'two'): 1, ('two', 'year'): 1, ('year', 'agonow'): 1, ('agonow', 'regularl'): 1, ('regularl', 'char'): 1, ('last', 'year'): 2, ('year', 'medium'): 1, ('medium', 'coverage'): 1, ('coverage', 'general'): 1, ('general', 'public'): 1, ('public', 'interest'): 1, ('interest', 'cryptocurrencies'): 1, ('cryptocurrencies', 'blockchains'): 1, ('blockchains', 'nfts'): 1, ('nfts', 'ha'): 1, ('ha', 'ramped'): 1, ('ramped', 'significantly'): 1, ('significantly', 'march'): 1, ('march', 'global'): 1, ('global', 'market'): 1, ('market', 'cap'): 3, ('cap', 'cryptocurrencies'): 1, ('week', 'publish'): 1, ('publish', 'multiple'): 1, ('multiple', 'incredible'): 1, ('incredible', 'story'): 1, ('story', 'motherboard'): 1, ('motherboard', 'week'): 1, ('week', 'many'): 1, ('many', 'couldnt'): 1, ('couldnt', 'decide'): 1, ('decide', 'one'): 1, ('one', 'wanted'): 1, ('wanted', 'focus'): 1, ('focus', 'gon'): 1, ('gon', 'na'): 1, ('na', 'something'): 1, ('something', 'little'): 1, ('little', 'different'): 1, ('different', 'char'): 1, ('register', 'todaycarbon'): 1, ('todaycarbon', 'char'): 1, ('crypto', 'potentially'): 1, ('potentially', 'lucrative'): 1, ('lucrative', 'investment'): 1, ('investment', 'thousand'): 1, ('thousand', 'cryptocurrencies'): 1, ('cryptocurrencies', 'tough'): 1, ('tough', 'determine'): 1, ('determine', 'one'): 1, ('one', 'better'): 1, ('better', 'buysethereumeth'): 1, ('buysethereumeth', 'second'): 1, ('second', 'mo'): 1, ('char', 'stripe'): 1, ('stripe', 'online'): 1, ('online', 'payment'): 1, ('payment', 'processing'): 1, ('processing', 'service'): 1, ('service', 'partnering'): 1, ('partnering', 'twitter'): 1, ('twitter', 'test'): 1, ('test', 'way'): 1, ('way', 'creator'): 1, ('creator', 'receive'): 1, ('receive', 'payment'): 1, ('payment', 'cryptocurrency'): 1, ('cryptocurrency', 'select'): 1, ('select', 'group'): 1, ('group', 'creator'): 1, ('creator', 'monetization'): 1, ('monetization', 'feature'): 1, ('feature', 'char'): 1, ('want', 'cryptocurrency'): 2, ('cryptocurrency', 'stand'): 2, ('stand', 'test'): 3, ('test', 'time'): 3, ('look', 'thanethereum'): 1, ('thanethereum', 'eth'): 1, ('eth', 'andavalanche'): 1, ('andavalanche', 'avax'): 1, ('avax', 'asset'): 1, ('asset', 'look'): 1, ('look', 'positioned'): 1, ('positioned', 'longterm'): 1, ('longterm', 'success'): 1, ('success', 'st'): 1, ('st', 'char'): 1, ('char', 'invested'): 1, ('invested', 'money'): 1, ('money', 'stock'): 1, ('stock', 'market'): 1, ('market', 'march'): 1, ('march', 'youve'): 1, ('youve', 'done'): 1, ('done', 'quite'): 1, ('quite', 'well'): 1, ('well', 'widely'): 1, ('widely', 'followed'): 1, ('followed', 'sampp'): 1, ('sampp', 'ha'): 1, ('ha', 'effectively'): 1, ('effectively', 'doubled'): 1, ('doubled', 'value'): 1, ('value', 'since'): 1, ('since', 'hitting'): 1, ('hitting', 'pandemic'): 1, ('pandemic', 'lowbut'): 1, ('lowbut', 'boug'): 1, ('boug', 'char'): 1, ('char', 'market'): 1, ('market', 'selloff'): 1, ('selloff', 'sometimes'): 1, ('sometimes', 'difficult'): 1, ('difficult', 'decide'): 1, ('decide', 'invest'): 1, ('invest', 'buy'): 1, ('buy', 'growth'): 1, ('growth', 'stock'): 1, ('stock', 'sale'): 1, ('sale', 'maybe'): 1, ('maybe', 'want'): 1, ('want', 'dividend'): 1, ('dividend', 'stock'): 1, ('stock', 'count'): 1, ('count', 'passive'): 1, ('passive', 'income'): 1, ('income', 'maybe'): 1, ('maybe', 'char'): 1, ('char', 'hard'): 1, ('hard', 'find'): 1, ('find', 'asset'): 1, ('asset', 'ha'): 1, ('ha', 'outperformed'): 1, ('outperformed', 'ethereumseth'): 1, ('ethereumseth', 'return'): 1, ('return', 'past'): 1, ('past', 'five'): 1, ('year', 'world'): 1, ('world', 'top'): 1, ('top', 'programmable'): 1, ('programmable', 'blockchain'): 1, ('blockchain', 'certainly'): 1, ('certainly', 'ha'): 1, ('ha', 'fair'): 1, ('fair', 'share'): 1, ('share', 'supporter'): 1, ('supporter', 'th'): 1, ('th', 'char'): 1, ('cryptocurrencies', 'taken'): 1, ('taken', 'world'): 1, ('world', 'storm'): 1, ('storm', 'last'): 1, ('year', 'one'): 1, ('one', 'leader'): 1, ('leader', 'ha'): 1, ('ha', 'ethereum'): 1, ('ethereum', 'eth'): 6, ('eth', 'ethereum'): 1, ('blockchain', 'allows'): 1, ('allows', 'developer'): 1, ('developer', 'build'): 1, ('build', 'smart'): 1, ('contract', 'char'): 1, ('char', 'discussing'): 1, ('discussing', 'ethereum'): 1, ('eth', 'hard'): 1, ('hard', 'know'): 1, ('know', 'many'): 1, ('many', 'nft'): 1, ('nft', 'contract'): 1, ('contract', 'ha'): 1, ('ha', 'theyre'): 1, ('theyre', 'used'): 1, ('used', 'clip'): 1, ('clip', 'crypto'): 1, ('crypto', 'show'): 1, ('show', 'motley'): 1, ('motley', 'fool'): 1, ('fool', 'live'): 1, ('live', 'recorded'): 1, ('recorded', 'march'): 1, ('march', 'foolc'): 1, ('foolc', 'char'): 1, ('look', 'industry'): 1, ('industry', 'biggest'): 1, ('biggest', 'namesbitcoin'): 1, ('namesbitcoin', 'btc'): 1, ('btc', 'andethereum'): 1, ('andethereum', 'eth'): 1, ('eth', 'lets'): 1, ('lets', 'explore'): 2, ('explore', 'blue'): 1, ('blue', 'chip'): 1, ('chip', 'cryptos'): 1, ('cryptos', 'char'): 1, ('want', 'investment'): 1, ('investment', 'built'): 1, ('built', 'stand'): 1, ('look', 'strong'): 1, ('strong', 'brand'): 1, ('brand', 'sustainable'): 1, ('sustainable', 'advantage'): 1, ('advantage', 'cryptocurrency'): 1, ('cryptocurrency', 'giantsethereum'): 1, ('giantsethereum', 'eth'): 1, ('eth', 'andsolana'): 1, ('andsolana', 'sol'): 1, ('sol', 'fit'): 1, ('fit', 'bill'): 1, ('bill', 'lets'): 1, ('lets', 'discu'): 1, ('discu', 'char'): 1, ('char', 'opensea'): 1, ('opensea', 'world'): 1, ('world', 'largest'): 1, ('largest', 'nonfungible'): 1, ('token', 'nft'): 1, ('marketplace', 'announced'): 1, ('announced', 'list'): 1, ('list', 'solana'): 1, ('solana', 'sol'): 1, ('sol', 'based'): 1, ('based', 'nfts'): 1, ('nfts', 'site'): 1, ('site', 'april'): 1, ('april', 'currently'): 1, ('currently', 'nfts'): 1, ('nfts', 'ethereum'): 1, ('eth', 'char'): 1, ('char', 'dont'): 1, ('dont', 'need'): 1, ('need', 'fortune'): 1, ('fortune', 'get'): 1, ('get', 'started'): 1, ('started', 'crypto'): 1, ('crypto', 'starting'): 1, ('starting', 'investment'): 1, ('investment', 'could'): 1, ('could', 'help'): 1, ('help', 'set'): 1, ('set', 'foundation'): 1, ('foundation', 'enormous'): 1, ('enormous', 'return'): 1, ('return', 'long'): 1, ('long', 'term'): 1, ('term', 'lets'): 1, ('explore', 'ethereumeth'): 1, ('ethereumeth', 'andri'): 1, ('andri', 'char'): 1, ('char', 'solananfttrading'): 1, ('solananfttrading', 'volume'): 1, ('volume', 'ha'): 1, ('ha', 'jumped'): 1, ('jumped', 'thanks'): 1, ('thanks', 'new'): 1, ('new', 'nft'): 1, ('nft', 'project'): 1, ('project', 'decrypt'): 1, ('decrypt', 'reported'): 1, ('reported', 'solanabased'): 1, ('solanabased', 'okay'): 1, ('okay', 'bears'): 1, ('bears', 'avatar'): 1, ('avatar', 'series'): 1, ('series', 'wa'): 1, ('wa', 'popular'): 1, ('popular', 'upon'): 1, ('upon', 'release'): 1, ('release', 'yesterday'): 1, ('yesterday', 'project'): 1, ('project', 'generated'): 1, ('generated', 'char'): 1, ('char', 'bloombergs'): 1, ('bloombergs', 'levine'): 1, ('levine', 'give'): 1, ('give', 'intuitive'): 1, ('intuitive', 'understanding'): 1, ('understanding', 'farming'): 1, ('farming', 'mean'): 1, ('mean', 'like'): 1, ('like', 'farming'): 1, ('farming', 'like'): 1, ('like', 'sell'): 1, ('sell', 'structured'): 1, ('structured', 'put'): 1, ('put', 'collect'): 1, ('collect', 'premium'): 1, ('premium', 'perhaps'): 1, ('perhaps', 'sophistica'): 1, ('sophistica', 'char'): 1, ('cryptocurrencies', 'digital'): 1, ('digital', 'currency'): 1, ('currency', 'act'): 1, ('act', 'medium'): 1, ('medium', 'exchange'): 1, ('exchange', 'like'): 1, ('like', 'regular'): 1, ('regular', 'money'): 1, ('money', 'one'): 1, ('one', 'difference'): 1, ('difference', 'cryptocurrencies'): 1, ('cryptocurrencies', 'paper'): 1, ('paper', 'money'): 1, ('money', 'cryptocurrencies'): 1, ('cryptocurrencies', 'designe'): 1, ('designe', 'char'): 1, ('us', 'court'): 1, ('court', 'ha'): 1, ('ha', 'sentenced'): 1, ('sentenced', 'former'): 1, ('former', 'ethereum'): 1, ('developer', 'virgil'): 1, ('virgil', 'griffith'): 1, ('griffith', 'five'): 1, ('prison', 'pay'): 1, ('pay', 'fine'): 1, ('fine', 'conspiring'): 1, ('conspiring', 'north'): 1, ('korea', 'help'): 1, ('help', 'use'): 1, ('use', 'cryptocurrencies'): 1, ('cryptocurrencies', 'c'): 1, ('c', 'char'): 1, ('char', 'software'): 1, ('software', 'company'): 1, ('company', 'opera'): 1, ('opera', 'announced'): 1, ('announced', 'bringing'): 1, ('bringing', 'crypto'): 1, ('browser', 'project'): 1, ('project', 'ios'): 1, ('ios', 'browser'): 1, ('browser', 'already'): 1, ('already', 'available'): 1, ('available', 'mac'): 1, ('mac', 'windows'): 1, ('windows', 'android'): 1, ('android', 'provides'): 1, ('provides', 'userfriendly'): 1, ('userfriendly', 'access'): 1, ('access', 'char'): 1, ('char', 'ark'): 1, ('ark', 'invest'): 1, ('invest', 'chief'): 1, ('chief', 'executive'): 1, ('executive', 'officer'): 1, ('officer', 'cathie'): 1, ('cathie', 'wood'): 1, ('wood', 'ha'): 1, ('ha', 'never'): 1, ('never', 'shied'): 1, ('shied', 'away'): 1, ('away', 'bold'): 1, ('bold', 'prediction'): 1, ('prediction', 'put'): 1, ('put', 'price'): 1, ('price', 'target'): 1, ('target', 'tesla'): 1, ('tesla', 'implied'): 1, ('implied', 'billion'): 1, ('billion', 'market'): 1, ('cap', 'course'): 1, ('course', 'tesla'): 1, ('tesla', 'ha'): 1, ('ha', 'since'): 1, ('since', 'char'): 1, ('char', 'happenedthe'): 5, ('happenedthe', 'waves'): 1, ('waves', 'waves'): 1, ('waves', 'token'): 1, ('token', 'giving'): 1, ('giving', 'back'): 1, ('back', 'recent'): 1, ('recent', 'gain'): 1, ('gain', 'token'): 1, ('token', 'heart'): 1, ('heart', 'waves'): 1, ('waves', 'decentralized'): 1, ('decentralized', 'application'): 1, ('application', 'platform'): 1, ('platform', 'wa'): 1, ('wa', 'lower'): 1, ('lower', 'hour'): 1, ('hour', 'char'): 1, ('char', 'important'): 1, ('important', 'milestone'): 1, ('milestone', 'ethereum'): 1, ('eth', 'since'): 1, ('since', 'launch'): 1, ('launch', 'arguably'): 1, ('arguably', 'way'): 1, ('way', 'merge'): 1, ('merge', 'beacon'): 1, ('beacon', 'chain'): 1, ('chain', 'ethereum'): 1, ('ethereum', 'mainnet'): 1, ('mainnet', 'wa'): 1, ('wa', 'expected'): 1, ('expected', 'take'): 1, ('take', 'place'): 1, ('place', 'june'): 1, ('june', 'thi'): 1, ('thi', 'char'): 1, ('char', 'youd'): 1, ('youd', 'run'): 1, ('run', 'finger'): 1, ('finger', 'counting'): 1, ('counting', 'good'): 1, ('good', 'thing'): 1, ('thing', 'aboutethereum'): 1, ('aboutethereum', 'eth'): 1, ('eth', 'list'): 1, ('list', 'includes'): 1, ('includes', 'cryptocurrencys'): 1, ('cryptocurrencys', 'ranking'): 1, ('ranking', 'based'): 1, ('based', 'market'): 1, ('cap', 'massive'): 1, ('massive', 'return'): 1, ('return', 'recent'): 1, ('year', 'stat'): 1, ('stat', 'char'): 1, ('ha', 'implicated'): 1, ('implicated', 'north'): 1, ('north', 'koreabacked'): 1, ('koreabacked', 'lazarus'): 1, ('lazarus', 'group'): 1, ('group', 'aka'): 1, ('aka', 'hidden'): 1, ('hidden', 'cobra'): 1, ('cobra', 'theft'): 1, ('million', 'video'): 1, ('video', 'game'): 1, ('axie', 'infinitys'): 1, ('infinitys', 'ronin'): 1, ('ronin', 'network'): 1, ('network', 'last'): 1, ('last', 'monthon'): 1, ('monthon', 'thursday'): 1, ('char', 'yuga'): 1, ('yuga', 'labs'): 2, ('labs', 'brand'): 1, ('brand', 'behind'): 1, ('behind', 'bored'): 1, ('bored', 'ape'): 1, ('ape', 'yacht'): 1, ('club', 'bayc'): 1, ('bayc', 'announced'): 1, ('announced', 'monday'): 1, ('monday', 'launch'): 1, ('launch', 'metaverse'): 1, ('metaverse', 'otherside'): 1, ('otherside', 'project'): 1, ('project', 'launch'): 1, ('launch', 'april'): 1, ('april', 'partnership'): 1, ('partnership', 'animoca'): 1, ('animoca', 'brandsthe'): 1, ('brandsthe', 'others'): 1, ('others', 'char'): 1, ('char', 'avvenire'): 1, ('avvenire', 'electric'): 1, ('electric', 'vehicles'): 1, ('vehicles', 'taking'): 1, ('taking', 'evs'): 1, ('evs', 'next'): 1, ('level', 'allowing'): 1, ('allowing', 'driver'): 1, ('driver', 'get'): 1, ('get', 'cryptocurrency'): 1, ('cryptocurrency', 'game'): 1, ('game', 'crypto'): 1, ('crypto', 'mining'): 1, ('mining', 'spiritus'): 1, ('spiritus', 'threewheeled'): 1, ('threewheeled', 'fully'): 1, ('fully', 'electric'): 1, ('electric', 'car'): 1, ('car', 'come'): 1, ('come', 'char'): 1, ('char', 'competition'): 1, ('competition', 'blockchains'): 1, ('blockchains', 'developer'): 1, ('developer', 'user'): 1, ('user', 'pick'): 1, ('pick', 'investor'): 1, ('investor', 'decide'): 1, ('decide', 'cryptocurrency'): 1, ('cryptocurrency', 'likely'): 1, ('likely', 'winner'): 1, ('winner', 'future'): 1, ('future', 'ethereum'): 1, ('eth', 'ha'): 1, ('ha', 'long'): 1, ('long', 'big'): 1, ('big', 'lead'): 1, ('lead', 'char'): 1, ('happenedthe', 'price'): 1, ('price', 'several'): 1, ('several', 'popular'): 1, ('popular', 'cryptocurrencies'): 1, ('cryptocurrencies', 'fell'): 2, ('fell', 'investor'): 1, ('investor', 'evaluated'): 1, ('evaluated', 'move'): 1, ('move', 'federal'): 1, ('federal', 'reserve'): 1, ('reserve', 'desperately'): 1, ('desperately', 'trying'): 1, ('trying', 'rein'): 1, ('rein', 'surging'): 1, ('surging', 'inflationthe'): 1, ('inflationthe', 'char'): 1, ('char', 'wa'): 1, ('wa', 'year'): 1, ('year', 'ofethereum'): 1, ('ofethereum', 'eth'): 1, ('eth', 'proofofstake'): 1, ('proofofstake', 'cryptocurrency'): 1, ('cryptocurrency', 'stormed'): 1, ('stormed', 'chart'): 1, ('chart', 'gaining'): 1, ('gaining', 'become'): 1, ('become', 'legitimate'): 1, ('legitimate', 'challenger'): 1, ('challenger', 'tobitcoins'): 1, ('tobitcoins', 'btc'): 1, ('btc', 'crypto'): 1, ('crypto', 'supremacythe'): 1, ('supremacythe', 'nf'): 1, ('nf', 'char'): 1, ('char', 'happenedits'): 1, ('happenedits', 'rather'): 1, ('rather', 'bumpy'): 1, ('bumpy', 'ride'): 1, ('ride', 'world'): 1, ('world', 'largecap'): 1, ('largecap', 'cryptocurrencies'): 1, ('cryptocurrencies', 'late'): 1, ('late', 'volatility'): 1, ('volatility', 'ha'): 1, ('ha', 'continued'): 1, ('continued', 'bitcoin'): 1, ('btc', 'ethereum'): 1, ('eth', 'andxrp'): 1, ('andxrp', 'xr'): 1, ('xr', 'char'): 1, ('happenedthe', 'cryptocurrency'): 2, ('cryptocurrency', 'market'): 2, ('market', 'bad'): 1, ('bad', 'end'): 1, ('end', 'week'): 1, ('week', 'friday'): 1, ('friday', 'selling'): 1, ('selling', 'could'): 1, ('could', 'wild'): 1, ('wild', 'weekend'): 1, ('weekend', 'yuga'): 1, ('labs', 'minting'): 1, ('minting', 'form'): 1, ('form', 'land'): 1, ('land', 'metaverse'): 1, ('market', 'seeing'): 1, ('seeing', 'day'): 1, ('day', 'selloff'): 1, ('selloff', 'price'): 1, ('price', 'shiba'): 1, ('shiba', 'inushib'): 1, ('inushib', 'ethereumeth'): 1, ('ethereumeth', 'dogecoins'): 1, ('dogecoins', 'doge'): 1, ('doge', 'token'): 1, ('token', 'losing'): 1, ('losing', 'ground'): 1, ('ground', 'char'): 1, ('cryptocurrency', 'price'): 1, ('price', 'may'): 1, ('may', 'taken'): 1, ('taken', 'beating'): 1, ('beating', 'last'): 1, ('month', 'mean'): 1, ('mean', 'best'): 1, ('best', 'investment'): 1, ('investment', 'saleethereum'): 1, ('saleethereum', 'eth'): 1, ('eth', 'one'): 1, ('one', 'popular'): 1, ('popular', 'cryptocurrenc'): 1, ('cryptocurrenc', 'char'): 1, ('happenedthe', 'value'): 1, ('value', 'cryptocurrencies'): 1, ('fell', 'friday'): 1, ('friday', 'morning'): 1, ('morning', 'european'): 1, ('european', 'union'): 1, ('union', 'moved'): 1, ('moved', 'forward'): 1, ('forward', 'potentially'): 1, ('potentially', 'restrictive'): 1, ('restrictive', 'regulation'): 1, ('regulation', 'crypto'): 1, ('crypto', 'fell'): 1, ('fell', 'across'): 1, ('across', 'board'): 1, ('board', 'big'): 1, ('big', 'na'): 1, ('na', 'char'): 1}\n"
     ]
    }
   ],
   "source": [
    "# Generate the Bitcoin N-grams where N=2\n",
    "bitcoin_freq = []\n",
    "for words in bitcoin_df['tokens']:\n",
    "    bitcoin_freq = bitcoin_freq + words \n",
    "\n",
    "bitcoin_ngrams = Counter(ngrams(bitcoin_freq, n=2))\n",
    "print(dict(bitcoin_ngrams))"
   ]
  },
  {
   "cell_type": "code",
   "execution_count": 51,
   "metadata": {},
   "outputs": [
    {
     "name": "stdout",
     "output_type": "stream",
     "text": [
      "{('us', 'department'): 2, ('department', 'treasury'): 1, ('treasury', 'say'): 1, ('say', 'lazarus'): 1, ('lazarus', 'behind'): 1, ('behind', 'attackthe'): 1, ('attackthe', 'us'): 1, ('us', 'treasury'): 4, ('treasury', 'department'): 4, ('department', 'blame'): 1, ('blame', 'north'): 1, ('north', 'korean'): 6, ('korean', 'hacking'): 2, ('hacking', 'group'): 2, ('group', 'lazarus'): 2, ('lazarus', 'stealing'): 1, ('stealing', 'million'): 1, ('million', 'cryptocurrency'): 2, ('cryptocurrency', 'ronin'): 1, ('ronin', 'networ'): 1, ('networ', 'char'): 1, ('char', 'poster'): 1, ('poster', 'participating'): 1, ('participating', 'including'): 1, ('including', 'story'): 1, ('story', 'authormore'): 1, ('authormore', 'longtime'): 1, ('longtime', 'wikipedia'): 2, ('wikipedia', 'editor'): 2, ('editor', 'requested'): 2, ('requested', 'wikimedia'): 2, ('wikimedia', 'foundation'): 2, ('foundation', 'stop'): 2, ('stop', 'accepting'): 2, ('accepting', 'cryptocurrency'): 2, ('cryptocurrency', 'donationsthe'): 1, ('donationsthe', 'foundatio'): 1, ('foundatio', 'char'): 1, ('char', 'week'): 3, ('week', 'cryptocurrency'): 1, ('cryptocurrency', 'network'): 2, ('network', 'ronin'): 2, ('ronin', 'disclosed'): 1, ('disclosed', 'breach'): 1, ('breach', 'attacker'): 1, ('attacker', 'made'): 1, ('made', 'million'): 1, ('million', 'worth'): 1, ('worth', 'ethereum'): 1, ('ethereum', 'usdc'): 1, ('usdc', 'stablecoin'): 1, ('stablecoin', 'incident'): 1, ('incident', 'one'): 1, ('one', 'biggest'): 1, ('biggest', 'heist'): 1, ('heist', 'char'): 1, ('char', 'opera'): 1, ('opera', 'launched'): 1, ('launched', 'dedicated'): 1, ('dedicated', 'crypto'): 1, ('crypto', 'browser'): 2, ('browser', 'beta'): 1, ('beta', 'back'): 1, ('back', 'january'): 1, ('january', 'promising'): 1, ('promising', 'make'): 1, ('make', 'web'): 1, ('web', 'accessible'): 1, ('accessible', 'web'): 1, ('web', 'website'): 1, ('website', 'company'): 1, ('company', 'released'): 1, ('released', 'browser'): 1, ('browser', 'windows'): 1, ('windows', 'mac'): 1, ('mac', 'android'): 1, ('android', 'user'): 1, ('user', 'char'): 1, ('char', 'april'): 7, ('april', 'reuters'): 8, ('reuters', 'ethereum'): 1, ('ethereum', 'blockchain'): 2, ('blockchain', 'scaling'): 1, ('scaling', 'platform'): 1, ('platform', 'boba'): 1, ('boba', 'network'): 1, ('network', 'raised'): 1, ('raised', 'million'): 1, ('million', 'series'): 1, ('series', 'round'): 1, ('round', 'participation'): 1, ('participation', 'investor'): 1, ('investor', 'including'): 1, ('including', 'smithled'): 1, ('smithled', 'dreamers'): 1, ('dreamers', 'vc'): 1, ('vc', 'paris'): 1, ('paris', 'hilton'): 1, ('hilton', 'char'): 1, ('char', 'newsa'): 1, ('newsa', 'former'): 1, ('former', 'developer'): 1, ('developer', 'cryptocurrency'): 1, ('cryptocurrency', 'ethereum'): 1, ('ethereum', 'wa'): 1, ('wa', 'sentenced'): 2, ('sentenced', 'five'): 2, ('five', 'year'): 5, ('year', 'prison'): 1, ('prison', 'fined'): 1, ('fined', 'forhelping'): 1, ('forhelping', 'north'): 1, ('north', 'korea'): 3, ('korea', 'use'): 1, ('use', 'cryptos'): 1, ('cryptos', 'evade'): 1, ('evade', 'us'): 2, ('us', 'sanctionsper'): 1, ('sanctionsper', 'nbc'): 1, ('nbc', 'news'): 1, ('news', 'char'): 1, ('reuters', 'ether'): 1, ('ether', 'ha'): 1, ('ha', 'promised'): 2, ('promised', 'better'): 1, ('better', 'ha'): 1, ('promised', 'go'): 1, ('go', 'next'): 1, ('next', 'level'): 2, ('level', 'edging'): 1, ('edging', 'crypto'): 1, ('crypto', 'rival'): 1, ('rival', 'even'): 1, ('even', 'outshining'): 1, ('outshining', 'godfather'): 1, ('godfather', 'bitcoin'): 1, ('bitcoin', 'clock'): 1, ('clock', 'tickingthe'): 1, ('tickingthe', 'char'): 1, ('char', 'regulatory'): 1, ('regulatory', 'solution'): 1, ('solution', 'codified'): 1, ('codified', 'regionally'): 1, ('regionally', 'internationally'): 1, ('internationally', 'compatible'): 1, ('compatible', 'language'): 1, ('language', 'legal'): 1, ('legal', 'definition'): 1, ('definition', 'policy'): 1, ('policy', 'solution'): 1, ('solution', 'like'): 1, ('like', 'online'): 1, ('online', 'harm'): 1, ('harm', 'safety'): 1, ('safety', 'bill'): 1, ('bill', 'could'): 1, ('could', 'used'): 1, ('used', 'expand'): 1, ('expand', 'r'): 1, ('r', 'char'): 1, ('char', 'ethereum'): 1, ('ethereum', 'preparing'): 1, ('preparing', 'upgrade'): 1, ('upgrade', 'thats'): 1, ('thats', 'described'): 1, ('described', 'single'): 1, ('single', 'important'): 1, ('important', 'event'): 1, ('event', 'crypto'): 1, ('crypto', 'historythe'): 1, ('historythe', 'transition'): 1, ('transition', 'would'): 1, ('would', 'overhaul'): 1, ('overhaul', 'infrastructure'): 1, ('infrastructure', 'world'): 1, ('world', 'secondlargest'): 1, ('secondlargest', 'blockcha'): 1, ('blockcha', 'char'): 1, ('char', 'brave'): 1, ('brave', 'browser'): 1, ('browser', 'promotes'): 1, ('promotes', 'google'): 1, ('google', 'chrome'): 1, ('chrome', 'alternative'): 1, ('alternative', 'focused'): 1, ('focused', 'privacy'): 1, ('privacy', 'default'): 1, ('default', 'setting'): 1, ('setting', 'arent'): 1, ('arent', 'privacy'): 1, ('privacy', 'friendly'): 1, ('friendly', 'need'): 1, ('need', 'use'): 1, ('use', 'chromebased'): 1, ('chromebased', 'browser'): 1, ('browser', 'brave'): 1, ('brave', 'defi'): 1, ('defi', 'char'): 1, ('char', 'dogecoiners'): 1, ('dogecoiners', 'unite'): 1, ('unite', 'movie'): 1, ('movie', 'theater'): 1, ('theater', 'chain'): 1, ('chain', 'amc'): 1, ('amc', 'ha'): 1, ('ha', 'welcomed'): 1, ('welcomed', 'cryptocurrencies'): 1, ('cryptocurrencies', 'payment'): 1, ('payment', 'option'): 1, ('option', 'online'): 1, ('online', 'mobile'): 1, ('mobile', 'purchase'): 1, ('purchase', 'tweet'): 1, ('tweet', 'april'): 1, ('april', 'amc'): 1, ('amc', 'ceo'): 1, ('ceo', 'adam'): 1, ('adam', 'aron'): 1, ('aron', 'announced'): 1, ('announced', 'moviego'): 1, ('moviego', 'char'): 1, ('char', 'theres'): 1, ('theres', 'new'): 1, ('new', 'metaverse'): 1, ('metaverse', 'project'): 1, ('project', 'creator'): 1, ('creator', 'bored'): 1, ('bored', 'apes'): 1, ('apes', 'yacht'): 1, ('yacht', 'club'): 2, ('club', 'nfts'): 1, ('nfts', 'last'): 1, ('last', 'night'): 1, ('night', 'held'): 1, ('held', 'virtual'): 1, ('virtual', 'land'): 1, ('land', 'sale'): 1, ('sale', 'report'): 1, ('report', 'bloomberg'): 1, ('bloomberg', 'raising'): 1, ('raising', 'nearly'): 1, ('nearly', 'third'): 1, ('third', 'billion'): 1, ('billion', 'dollarsat'): 1, ('dollarsat', 'ab'): 1, ('ab', 'char'): 1, ('char', 'early'): 1, ('early', 'week'): 1, ('week', 'ukrainian'): 1, ('ukrainian', 'computer'): 1, ('computer', 'emergency'): 1, ('emergency', 'response'): 1, ('response', 'team'): 1, ('team', 'slovakian'): 1, ('slovakian', 'cybersecurity'): 1, ('cybersecurity', 'firm'): 1, ('firm', 'eset'): 1, ('eset', 'warned'): 1, ('warned', 'russias'): 1, ('russias', 'notorious'): 1, ('notorious', 'gru'): 1, ('gru', 'sandworm'): 1, ('sandworm', 'hacker'): 1, ('hacker', 'targeted'): 1, ('targeted', 'highvoltage'): 1, ('highvoltage', 'electrical'): 1, ('electrical', 'substati'): 1, ('substati', 'char'): 1, ('char', 'one'): 1, ('one', 'leading'): 1, ('leading', 'ethereum'): 1, ('ethereum', 'software'): 1, ('software', 'developer'): 1, ('developer', 'said'): 1, ('said', 'blockchain'): 1, ('blockchain', 'network'): 1, ('network', 'muchanticipated'): 1, ('muchanticipated', 'technical'): 1, ('technical', 'upgrade'): 1, ('upgrade', 'known'): 1, ('known', 'merge'): 1, ('merge', 'likely'): 1, ('likely', 'completed'): 1, ('completed', 'month'): 1, ('month', 'junethe'): 1, ('junethe', 'comment'): 1, ('comment', 'help'): 1, ('help', 'char'): 1, ('char', 'first'): 1, ('first', 'wrote'): 1, ('wrote', 'problem'): 1, ('problem', 'bot'): 1, ('bot', 'frontrunning'): 1, ('frontrunning', 'transaction'): 1, ('transaction', 'year'): 1, ('year', 'half'): 1, ('half', 'ago'): 1, ('ago', 'order'): 1, ('order', 'flow'): 1, ('flow', 'citing'): 1, ('citing', 'dan'): 1, ('dan', 'robinson'): 1, ('robinson', 'georgios'): 1, ('georgios', 'konstantopoulosethereum'): 1, ('konstantopoulosethereum', 'dark'): 1, ('dark', 'forest'): 1, ('forest', 'august'): 1, ('august', 'char'): 1, ('reuters', 'bitcoin'): 1, ('bitcoin', 'dropped'): 1, ('dropped', 'tuesday'): 1, ('tuesday', 'previous'): 1, ('previous', 'closebitcoin'): 1, ('closebitcoin', 'world'): 1, ('world', 'biggest'): 1, ('biggest', 'bestknown'): 1, ('bestknown', 'cryptocurrency'): 1, ('cryptocurrency', 'year'): 1, ('year', 'low'): 1, ('low', 'char'): 1, ('char', 'cryptocurrency'): 3, ('cryptocurrency', 'boom'): 1, ('boom', 'past'): 1, ('past', 'year'): 2, ('year', 'ha'): 1, ('ha', 'helped'): 1, ('helped', 'propel'): 1, ('propel', 'newer'): 1, ('newer', 'market'): 1, ('market', 'record'): 1, ('record', 'height'): 1, ('height', 'digital'): 1, ('digital', 'collectible'): 1, ('collectible', 'known'): 1, ('known', 'nftsthe'): 1, ('nftsthe', 'craze'): 1, ('craze', 'ha'): 1, ('ha', 'pushed'): 2, ('pushed', 'total'): 1, ('total', 'nft'): 1, ('nft', 'sale'): 1, ('sale', 'volume'): 1, ('volume', 'billion'): 1, ('billion', 'ov'): 1, ('ov', 'char'): 1, ('reuters', 'former'): 1, ('former', 'researcher'): 1, ('researcher', 'highprofile'): 1, ('highprofile', 'cryptocurrency'): 1, ('cryptocurrency', 'group'): 1, ('group', 'wa'): 1, ('year', 'three'): 2, ('three', 'month'): 2, ('month', 'prison'): 2, ('prison', 'tuesday'): 1, ('tuesday', 'conspiring'): 1, ('conspiring', 'help'): 1, ('help', 'north'): 1, ('korea', 'evade'): 1, ('us', 'sanctio'): 1, ('sanctio', 'char'): 1, ('char', 'chief'): 1, ('chief', 'product'): 1, ('product', 'officer'): 1, ('officer', 'aparna'): 1, ('aparna', 'chennapragada'): 1, ('chennapragada', 'made'): 1, ('made', 'announcement'): 1, ('announcement', 'stage'): 1, ('stage', 'bitcoin'): 1, ('bitcoin', 'conference'): 2, ('conference', 'miami'): 1, ('miami', 'handful'): 1, ('handful', 'wallet'): 1, ('wallet', 'beta'): 1, ('beta', 'tester'): 1, ('tester', 'could'): 1, ('could', 'move'): 1, ('move', 'bitcoin'): 1, ('bitcoin', 'btc'): 2, ('btc', 'ether'): 1, ('ether', 'eth'): 1, ('eth', 'dogecoi'): 1, ('dogecoi', 'char'): 1, ('char', 'excited'): 2, ('excited', 'bring'): 2, ('bring', 'transform'): 2, ('transform', 'back'): 2, ('back', 'inperson'): 2, ('inperson', 'july'): 2, ('july', 'virtually'): 2, ('virtually', 'july'): 2, ('july', 'join'): 2, ('join', 'ai'): 2, ('ai', 'data'): 2, ('data', 'leader'): 2, ('leader', 'insightful'): 2, ('insightful', 'talk'): 2, ('talk', 'exciting'): 2, ('exciting', 'networking'): 2, ('networking', 'opportunity'): 2, ('opportunity', 'register'): 2, ('register', 'todaya'): 1, ('todaya', 'coali'): 1, ('coali', 'char'): 1, ('char', 'went'): 1, ('went', 'renew'): 1, ('renew', 'eth'): 1, ('eth', 'domain'): 1, ('domain', 'morning'): 1, ('morning', 'gas'): 1, ('gas', 'fee'): 1, ('fee', 'high'): 1, ('high', 'decided'): 1, ('decided', 'come'): 1, ('come', 'back'): 1, ('back', 'timeethereum'): 1, ('timeethereum', 'popular'): 1, ('popular', 'smart'): 1, ('smart', 'contract'): 3, ('contract', 'blockchain'): 1, ('blockchain', 'far'): 1, ('far', 'frequent'): 1, ('frequent', 'char'): 1, ('char', 'advocate'): 1, ('advocate', 'believed'): 1, ('believed', 'web'): 1, ('web', 'freedom'): 1, ('freedom', 'democracy'): 1, ('democracy', 'ownership'): 1, ('ownership', 'idealistic'): 1, ('idealistic', 'version'): 1, ('version', 'web'): 1, ('web', 'built'): 1, ('built', 'user'): 1, ('user', 'theoretically'): 1, ('theoretically', 'theyre'): 1, ('theyre', 'wrong'): 1, ('wrong', 'web'): 1, ('web', 'still'): 1, ('still', 'development'): 1, ('development', 'char'): 1, ('cryptocurrency', 'world'): 1, ('world', 'alltime'): 1, ('alltime', 'high'): 1, ('high', 'great'): 1, ('great', 'time'): 1, ('time', 'look'): 4, ('look', 'best'): 1, ('best', 'cryptocurrency'): 1, ('cryptocurrency', 'industry'): 1, ('industry', 'find'): 1, ('find', 'one'): 1, ('one', 'invest'): 1, ('invest', 'additionally'): 1, ('additionally', 'also'): 1, ('also', 'cash'): 1, ('cash', 'tre'): 1, ('tre', 'char'): 1, ('reuters', 'twitter'): 1, ('twitter', 'inc'): 1, ('inc', 'twtrn'): 1, ('twtrn', 'digital'): 1, ('digital', 'payment'): 1, ('payment', 'processor'): 2, ('processor', 'stripe'): 2, ('stripe', 'inc'): 1, ('inc', 'pilot'): 1, ('pilot', 'cryptocurrency'): 1, ('cryptocurrency', 'payouts'): 1, ('payouts', 'select'): 1, ('select', 'user'): 1, ('user', 'social'): 1, ('social', 'medium'): 2, ('medium', 'site'): 1, ('site', 'content'): 1, ('content', 'monetization'): 1, ('monetization', 'product'): 1, ('product', 'co'): 1, ('co', 'char'): 1, ('week', 'fbi'): 1, ('fbi', 'released'): 1, ('released', 'statement'): 1, ('statement', 'assigning'): 1, ('assigning', 'blame'): 1, ('blame', 'recent'): 1, ('recent', 'ronin'): 1, ('ronin', 'bridge'): 1, ('bridge', 'hack'): 1, ('hack', 'largest'): 1, ('largest', 'known'): 1, ('known', 'instance'): 1, ('instance', 'cryptocurrency'): 1, ('cryptocurrency', 'hacking'): 1, ('hacking', 'infamous'): 1, ('infamous', 'north'): 1, ('korean', 'associated'): 1, ('associated', 'hacking'): 1, ('hacking', 'organizat'): 1, ('organizat', 'char'): 1, ('char', 'us'): 6, ('department', 'justice'): 1, ('justice', 'accused'): 1, ('accused', 'two'): 1, ('two', 'european'): 1, ('european', 'citizen'): 1, ('citizen', 'money'): 1, ('money', 'laundering'): 1, ('laundering', 'role'): 1, ('role', 'helping'): 1, ('helping', 'north'): 1, ('korean', 'government'): 1, ('government', 'organize'): 1, ('organize', 'cryptocurrency'): 1, ('cryptocurrency', 'conference'): 1, ('conference', 'one'): 1, ('one', 'men'): 1, ('men', 'char'): 1, ('char', 'bottom'): 2, ('bottom', 'line'): 2, ('line', 'etoro'): 2, ('etoro', 'best'): 2, ('best', 'choice'): 1, ('choice', 'cryptofocused'): 1, ('cryptofocused', 'communityoriented'): 1, ('communityoriented', 'trader'): 1, ('trader', 'offer'): 1, ('offer', 'asset'): 1, ('asset', 'including'): 1, ('including', 'automated'): 1, ('automated', 'investing'): 1, ('investing', 'option'): 1, ('option', 'like'): 1, ('like', 'copyportfolios'): 1, ('copyportfolios', 'copytrader'): 1, ('copytrader', 'system'): 1, ('system', 'char'): 1, ('char', 'representations'): 1, ('representations', 'cryptocurrencies'): 1, ('cryptocurrencies', 'bitcoin'): 1, ('bitcoin', 'ethereum'): 1, ('ethereum', 'dogecoin'): 1, ('dogecoin', 'ripple'): 1, ('ripple', 'litecoin'): 1, ('litecoin', 'placed'): 1, ('placed', 'pc'): 1, ('pc', 'motherboard'): 1, ('motherboard', 'illustration'): 1, ('illustration', 'taken'): 1, ('taken', 'june'): 1, ('june', 'reutersdado'): 1, ('reutersdado', 'ruvicillustrationfile'): 1, ('ruvicillustrationfile', 'photofi'): 1, ('photofi', 'char'): 1, ('char', 'fast'): 1, ('fast', 'companyreviews'): 1, ('companyreviews', 'bitcoin'): 1, ('conference', 'held'): 1, ('held', 'miami'): 1, ('miami', 'week'): 1, ('week', 'arguing'): 1, ('arguing', 'wa'): 1, ('wa', 'actually'): 1, ('actually', 'ethereum'): 1, ('ethereum', 'sparked'): 1, ('sparked', 'boom'): 1, ('boom', 'cryptocurrenies'): 1, ('cryptocurrenies', 'nfts'): 1, ('nfts', 'daos'): 1, ('daos', 'ethereum'): 1, ('ethereum', 'sti'): 1, ('sti', 'char'): 1, ('char', 'cryptocurrencies'): 3, ('cryptocurrencies', 'like'): 1, ('like', 'bitcoin'): 1, ('bitcoin', 'btcusd'): 1, ('btcusd', 'ether'): 1, ('ether', 'ethusd'): 1, ('ethusd', 'exploded'): 1, ('exploded', 'popularity'): 1, ('popularity', 'recent'): 1, ('recent', 'year'): 2, ('year', 'traded'): 1, ('traded', 'individual'): 1, ('individual', 'investor'): 1, ('investor', 'company'): 1, ('company', 'likecit'): 1, ('likecit', 'char'): 1, ('char', 'late'): 1, ('late', 'last'): 1, ('last', 'month'): 2, ('month', 'hacker'): 1, ('hacker', 'made'): 1, ('made', 'wa'): 1, ('wa', 'worth'): 1, ('worth', 'system'): 1, ('system', 'cryptocurrency'): 1, ('ronin', 'believed'): 1, ('believed', 'secondlargest'): 1, ('secondlargest', 'cryptocurrency'): 1, ('cryptocurrency', 'theft'): 1, ('theft', 'recor'): 1, ('recor', 'char'): 1, ('char', 'like'): 1, ('like', 'traditional'): 1, ('traditional', 'computer'): 1, ('computer', 'network'): 1, ('network', 'blockchain'): 1, ('blockchain', 'protocol'): 1, ('protocol', 'ha'): 1, ('ha', 'different'): 1, ('different', 'capacity'): 1, ('capacity', 'tolerance'): 1, ('tolerance', 'much'): 1, ('much', 'traffic'): 1, ('traffic', 'take'): 1, ('take', 'become'): 1, ('become', 'congested'): 1, ('congested', 'turn'): 1, ('turn', 'traffic'): 1, ('traffic', 'char'): 1, ('char', 'link'): 1, ('link', 'bio'): 1, ('bio', 'commonly'): 1, ('commonly', 'repeated'): 1, ('repeated', 'phrase'): 1, ('phrase', 'social'): 1, ('medium', 'often'): 1, ('often', 'encountered'): 1, ('encountered', 'scrolling'): 1, ('scrolling', 'tiktok'): 1, ('tiktok', 'halfreading'): 1, ('halfreading', 'instagram'): 1, ('instagram', 'caption'): 1, ('caption', 'listening'): 1, ('listening', 'youtube'): 1, ('youtube', 'video'): 1, ('video', 'bio'): 1, ('bio', 'refers'): 1, ('refers', 'char'): 1, ('char', 'mockup'): 1, ('mockup', 'ethereum'): 1, ('ethereum', 'digital'): 1, ('digital', 'coinnurphotoa'): 1, ('coinnurphotoa', 'major'): 1, ('major', 'upgrade'): 1, ('upgrade', 'ethereum'): 1, ('ethereum', 'network'): 1, ('network', 'consume'): 1, ('consume', 'far'): 1, ('far', 'le'): 1, ('le', 'energy'): 1, ('energy', 'ha'): 1, ('pushed', 'back'): 1, ('back', 'confirmed'): 1, ('confirmed', 'tweet'): 1, ('tweet', 'ethereum'): 1, ('ethereum', 'developer'): 2, ('developer', 'tim'): 1, ('tim', 'char'): 1, ('char', 'longtime'): 1, ('cryptocurrency', 'donation'): 1, ('donation', 'foundation'): 1, ('foundation', 'received'): 1, ('received', 'crypto'): 1, ('crypto', 'donation'): 1, ('donation', 'worth'): 1, ('worth', 'mo'): 1, ('mo', 'char'): 2, ('char', 'digital'): 1, ('digital', 'transformation'): 1, ('transformation', 'disrupting'): 1, ('disrupting', 'global'): 1, ('global', 'business'): 1, ('business', 'legal'): 1, ('legal', 'industry'): 1, ('industry', 'must'): 1, ('must', 'consider'): 1, ('consider', 'digital'): 1, ('digital', 'technology'): 1, ('technology', 'keep'): 1, ('keep', 'changing'): 1, ('changing', 'tech'): 1, ('tech', 'trend'): 1, ('trend', 'blockchainbased'): 1, ('blockchainbased', 'smart'): 1, ('contract', 'one'): 1, ('one', 'example'): 1, ('example', 'te'): 1, ('te', 'char'): 1, ('char', 'dirk'): 1, ('dirk', 'hohndel'): 1, ('hohndel', 'get'): 1, ('get', 'frequentlymentioned'): 1, ('frequentlymentioned', 'slashdot'): 1, ('slashdot', 'wa'): 1, ('wa', 'early'): 1, ('early', 'contributor'): 1, ('contributor', 'linux'): 1, ('linux', 'last'): 1, ('last', 'five'): 1, ('year', 'chief'): 1, ('chief', 'open'): 1, ('open', 'source'): 1, ('source', 'officer'): 1, ('officer', 'vice'): 1, ('vice', 'president'): 1, ('president', 'vmware'): 1, ('vmware', 'also'): 1, ('also', 'char'): 1, ('department', 'added'): 1, ('added', 'ethereum'): 1, ('ethereum', 'address'): 1, ('address', 'linked'): 1, ('linked', 'recent'): 1, ('recent', 'hack'): 1, ('hack', 'crypto'): 1, ('crypto', 'platform'): 1, ('platform', 'affiliated'): 1, ('affiliated', 'playtoearn'): 1, ('playtoearn', 'game'): 1, ('game', 'axie'): 2, ('axie', 'infinity'): 4, ('infinity', 'north'): 1, ('korean', 'sanction'): 1, ('sanction', 'list'): 1, ('list', 'thursday'): 1, ('thursday', 'char'): 2, ('char', 'know'): 1, ('know', 'known'): 1, ('known', 'use'): 1, ('use', 'blockchain'): 1, ('blockchain', 'technology'): 1, ('technology', 'cryptocurrencyof'): 1, ('cryptocurrencyof', 'course'): 1, ('course', 'isnt'): 1, ('isnt', 'though'): 1, ('though', 'weve'): 1, ('weve', 'seen'): 1, ('seen', 'nfts'): 1, ('nfts', 'nonfungible'): 2, ('nonfungible', 'token'): 3, ('token', 'part'): 1, ('part', 'ethereum'): 1, ('ethereum', 'char'): 1, ('char', 'investment'): 1, ('investment', 'firm'): 1, ('firm', 'bought'): 1, ('bought', 'acre'): 1, ('acre', 'real'): 1, ('real', 'estate'): 1, ('estate', 'us'): 1, ('us', 'million'): 1, ('million', 'normally'): 1, ('normally', 'would'): 1, ('would', 'make'): 1, ('make', 'headline'): 1, ('headline', 'case'): 1, ('case', 'land'): 1, ('land', 'wa'): 1, ('wa', 'virtual'): 1, ('virtual', 'existed'): 1, ('existed', 'metaverse'): 1, ('metaverse', 'pla'): 1, ('pla', 'char'): 1, ('char', 'past'): 1, ('year', 'tech'): 1, ('tech', 'world'): 1, ('world', 'ha'): 1, ('ha', 'experienced'): 1, ('experienced', 'rapid'): 1, ('rapid', 'evolution'): 1, ('evolution', 'spearheaded'): 1, ('spearheaded', 'large'): 1, ('large', 'part'): 1, ('part', 'blockchain'): 1, ('blockchain', 'evolution'): 1, ('evolution', 'precipice'): 1, ('precipice', 'revolution'): 1, ('revolution', 'nfts'): 1, ('nfts', 'metaverse'): 1, ('metaverse', 'char'): 2, ('department', 'ha'): 2, ('ha', 'tied'): 1, ('tied', 'north'): 2, ('lazarus', 'theft'): 1, ('theft', 'million'): 2, ('cryptocurrency', 'software'): 1, ('software', 'bridge'): 1, ('bridge', 'used'): 1, ('used', 'popular'): 1, ('popular', 'axie'): 1, ('infinity', 'playto'): 1, ('playto', 'char'): 1, ('char', 'heres'): 1, ('heres', 'happened'): 1, ('happened', 'week'): 1, ('week', 'world'): 1, ('world', 'cryptogetty'): 1, ('cryptogetty', 'imageswelcome'): 1, ('imageswelcome', 'nonfungible'): 1, ('nonfungible', 'tidbits'): 1, ('tidbits', 'weekly'): 1, ('weekly', 'roundup'): 1, ('roundup', 'news'): 1, ('news', 'crypto'): 1, ('crypto', 'nfts'): 1, ('nfts', 'related'): 1, ('related', 'realmsour'): 1, ('realmsour', 'lead'): 1, ('lead', 'story'): 1, ('story', 'week'): 1, ('week', 'show'): 1, ('show', 'char'): 1, ('char', 'somnium'): 1, ('somnium', 'spaces'): 1, ('spaces', 'upcoming'): 1, ('upcoming', 'live'): 1, ('live', 'forever'): 1, ('forever', 'feature'): 1, ('feature', 'would'): 1, ('would', 'recreate'): 1, ('recreate', 'user'): 1, ('user', 'persona'): 1, ('persona', 'metaverse'): 1, ('metaverse', 'using'): 1, ('using', 'massive'): 1, ('massive', 'amount'): 1, ('amount', 'personal'): 1, ('personal', 'data'): 1, ('data', 'accumulated'): 1, ('accumulated', 'yearssomnium'): 1, ('yearssomnium', 'spaceit'): 1, ('spaceit', 'wa'): 1, ('wa', 'matter'): 1, ('matter', 'char'): 1, ('char', 'despite'): 1, ('despite', 'fury'): 1, ('fury', 'seems'): 1, ('seems', 'exist'): 1, ('exist', 'around'): 1, ('around', 'nfts'): 1, ('token', 'cryptographic'): 1, ('cryptographic', 'asset'): 1, ('asset', 'represent'): 1, ('represent', 'something'): 1, ('something', 'unique'): 1, ('unique', 'market'): 1, ('market', 'ha'): 1, ('ha', 'slowed'): 1, ('slowed', 'opensea'): 1, ('opensea', 'one'): 1, ('one', 'char'): 1, ('etoro', 'coinbase'): 1, ('coinbase', 'great'): 1, ('great', 'beginner'): 1, ('beginner', 'crypto'): 1, ('crypto', 'trader'): 1, ('trader', 'etoro'): 1, ('best', 'option'): 1, ('option', 'value'): 1, ('value', 'social'): 1, ('social', 'trading'): 1, ('trading', 'feature'): 1, ('feature', 'handsoff'): 1, ('handsoff', 'investment'): 1, ('investment', 'option'): 1, ('option', 'flexible'): 1, ('flexible', 'asset'): 1, ('asset', 'char'): 1, ('reuters', 'sharp'): 1, ('sharp', 'drop'): 1, ('drop', 'graphic'): 1, ('graphic', 'chip'): 1, ('chip', 'price'): 1, ('price', 'could'): 1, ('could', 'presage'): 1, ('presage', 'unexpectedly'): 1, ('unexpectedly', 'quick'): 1, ('quick', 'ending'): 1, ('ending', 'global'): 1, ('global', 'chip'): 1, ('chip', 'crunch'): 1, ('crunch', 'ha'): 1, ('ha', 'crippled'): 1, ('crippled', 'manufacturing'): 1, ('manufacturing', 'smartphones'): 1, ('smartphones', 'car'): 1, ('car', 'issue'): 1, ('issue', 'wil'): 1, ('wil', 'char'): 1, ('char', 'want'): 4, ('want', 'pay'): 1, ('pay', 'online'): 1, ('online', 'need'): 1, ('need', 'register'): 1, ('register', 'account'): 1, ('account', 'provide'): 1, ('provide', 'credit'): 1, ('credit', 'card'): 2, ('card', 'information'): 1, ('information', 'dont'): 1, ('dont', 'credit'): 1, ('card', 'pay'): 1, ('pay', 'bank'): 1, ('bank', 'transfer'): 1, ('transfer', 'rise'): 1, ('rise', 'cryptocurrencies'): 1, ('cryptocurrencies', 'char'): 2, ('us', 'authority'): 1, ('authority', 'week'): 1, ('week', 'tied'): 1, ('korean', 'hacker'): 1, ('hacker', 'historic'): 1, ('historic', 'million'): 1, ('million', 'axie'): 1, ('infinity', 'crypto'): 1, ('crypto', 'swindle'): 1, ('swindle', 'massive'): 1, ('massive', 'hack'): 1, ('hack', 'signifying'): 1, ('signifying', 'emergence'): 1, ('emergence', 'new'): 1, ('new', 'type'): 1, ('type', 'national'): 1, ('national', 'security'): 1, ('security', 'threat'): 1, ('threat', 'char'): 1, ('char', 'world'): 2, ('world', 'centralized'): 1, ('centralized', 'finance'): 1, ('finance', 'struggling'): 1, ('struggling', 'decentralized'): 1, ('decentralized', 'economics'): 1, ('economics', 'taking'): 1, ('taking', 'rein'): 1, ('rein', 'also'): 1, ('also', 'known'): 1, ('known', 'defi'): 1, ('defi', 'exciting'): 1, ('exciting', 'new'): 1, ('new', 'development'): 1, ('development', 'made'): 1, ('made', 'variety'): 1, ('variety', 'application'): 1, ('application', 'run'): 1, ('run', 'char'): 1, ('char', 'picture'): 1, ('picture', 'youre'): 1, ('youre', 'mars'): 1, ('mars', 'house'): 1, ('house', 'scenario'): 1, ('scenario', 'sun'): 1, ('sun', 'setting'): 1, ('setting', 'otherworldly'): 1, ('otherworldly', 'red'): 1, ('red', 'planet'): 1, ('planet', 'skythrowing'): 1, ('skythrowing', 'incredible'): 1, ('incredible', 'shade'): 1, ('shade', 'brilliance'): 1, ('brilliance', 'eye'): 1, ('eye', 'blindin'): 1, ('blindin', 'char'): 1, ('char', 'editors'): 1, ('editors', 'note'): 1, ('note', 'second'): 1, ('second', 'fake'): 1, ('fake', 'iteration'): 1, ('iteration', 'column'): 1, ('column', 'obviously'): 1, ('obviously', 'real'): 1, ('real', 'columnan'): 1, ('columnan', 'alert'): 1, ('alert', 'cisa'): 1, ('cisa', 'combined'): 1, ('combined', 'unsealed'): 1, ('unsealed', 'pair'): 1, ('pair', 'indictment'): 1, ('indictment', 'shed'): 1, ('shed', 'new'): 1, ('new', 'ligh'): 1, ('ligh', 'char'): 1, ('char', 'name'): 1, ('name', 'sam'): 1, ('sam', 'bankmanfried'): 1, ('bankmanfried', 'already'): 1, ('already', 'billionaire'): 1, ('billionaire', 'forbes'): 1, ('forbes', 'magazine'): 1, ('magazine', 'ha'): 1, ('ha', 'valued'): 1, ('valued', 'fortune'): 1, ('fortune', 'billion'): 1, ('billion', 'dollar'): 1, ('dollar', 'ha'): 1, ('ha', 'generated'): 1, ('generated', 'thanks'): 1, ('thanks', 'ftx'): 1, ('ftx', 'trading'): 1, ('trading', 'limited'): 1, ('limited', 'one'): 1, ('one', 'l'): 1, ('l', 'char'): 1, ('char', 'shares'): 1, ('shares', 'nvidia'): 1, ('nvidia', 'corp'): 1, ('corp', 'share'): 1, ('share', 'slipping'): 1, ('slipping', 'monday'): 1, ('monday', 'analyst'): 1, ('analyst', 'took'): 1, ('took', 'cautious'): 1, ('cautious', 'outlook'): 1, ('outlook', 'company'): 1, ('company', 'gaming'): 1, ('gaming', 'business'): 1, ('business', 'bairds'): 1, ('bairds', 'tristan'): 1, ('tristan', 'gerra'): 1, ('gerra', 'downgraded'): 1, ('downgraded', 'nvidias'): 1, ('nvidias', 'stock'): 1, ('stock', 'nvda'): 1, ('nvda', 'n'): 1, ('n', 'char'): 1, ('char', 'crypto'): 2, ('crypto', 'coming'): 1, ('coming', 'stripegettyonline'): 1, ('stripegettyonline', 'payment'): 1, ('stripe', 'said'): 1, ('said', 'friday'): 1, ('friday', 'allow'): 1, ('allow', 'business'): 1, ('business', 'beginning'): 1, ('beginning', 'twitter'): 1, ('twitter', 'start'): 1, ('start', 'paying'): 1, ('paying', 'customer'): 1, ('customer', 'cryptocurrenciesthe'): 1, ('cryptocurrenciesthe', 'payou'): 1, ('payou', 'char'): 1, ('char', 'coinbase'): 1, ('coinbase', 'testing'): 1, ('testing', 'nft'): 1, ('nft', 'water'): 1, ('water', 'ethereumsarah'): 1, ('ethereumsarah', 'tewcnetcoinbase'): 1, ('tewcnetcoinbase', 'ha'): 1, ('ha', 'nft'): 1, ('nft', 'marketplace'): 2, ('marketplace', 'running'): 1, ('running', 'beta'): 1, ('beta', 'mode'): 1, ('mode', 'company'): 1, ('company', 'shared'): 1, ('shared', 'blog'): 1, ('blog', 'post'): 1, ('post', 'wednesday'): 1, ('wednesday', 'last'): 1, ('last', 'fall'): 1, ('fall', 'platfo'): 1, ('platfo', 'char'): 1, ('char', 'last'): 2, ('last', 'week'): 2, ('week', 'web'): 1, ('web', 'space'): 1, ('space', 'wa'): 1, ('wa', 'rocked'): 1, ('rocked', 'yet'): 1, ('yet', 'major'): 1, ('major', 'hack'): 1, ('hack', 'thieves'): 1, ('thieves', 'took'): 1, ('took', 'around'): 1, ('around', 'million'): 1, ('million', 'blockchain'): 1, ('blockchain', 'bridge'): 1, ('bridge', 'underpins'): 1, ('underpins', 'axie'): 1, ('infinity', 'flagship'): 1, ('flagship', 'emerging'): 1, ('emerging', 'playtoearn'): 1, ('playtoearn', 'gamin'): 1, ('gamin', 'char'): 1, ('char', 'cybersecurity'): 2, ('cybersecurity', 'diveindepth'): 2, ('diveindepth', 'journalism'): 2, ('journalism', 'daily'): 2, ('daily', 'insight'): 2, ('insight', 'impactful'): 2, ('impactful', 'news'): 2, ('news', 'trend'): 2, ('trend', 'shaping'): 2, ('shaping', 'cybersecurity'): 2, ('cybersecurity', 'covering'): 2, ('covering', 'topic'): 2, ('topic', 'executive'): 2, ('executive', 'need'): 2, ('need', 'know'): 2, ('know', 'breach'): 2, ('breach', 'vulnerability'): 2, ('vulnerability', 'regulat'): 2, ('regulat', 'char'): 2, ('char', 'bloomberg'): 2, ('bloomberg', 'intelligence'): 4, ('intelligence', 'podcast'): 2, ('podcast', 'browse'): 2, ('browse', 'episodesin'): 2, ('episodesin', 'week'): 2, ('week', 'bloomberg'): 2, ('bloomberg', 'podcast'): 2, ('podcast', 'bloomberg'): 2, ('intelligence', 'analyst'): 2, ('analyst', 'discus'): 2, ('discus', 'finding'): 2, ('finding', 'impact'): 2, ('impact', 'researchactive'): 1, ('researchactive', 'share'): 1, ('share', 'replacing'): 1, ('replacing', 'alpha'): 1, ('alpha', 'char'): 1, ('world', 'struggle'): 1, ('struggle', 'significant'): 1, ('significant', 'environmental'): 1, ('environmental', 'change'): 1, ('change', 'due'): 1, ('due', 'industrial'): 1, ('industrial', 'pollution'): 1, ('pollution', 'fossil'): 1, ('fossil', 'fuel'): 1, ('fuel', 'primary'): 1, ('primary', 'reason'): 1, ('reason', 'climate'): 1, ('climate', 'change'): 1, ('change', 'cryptocurrency'): 1, ('cryptocurrency', 'ha'): 1, ('ha', 'become'): 1, ('become', 'discussion'): 1, ('discussion', 'clim'): 1, ('clim', 'char'): 1, ('impact', 'researchcoinbase'): 1, ('researchcoinbase', 'exchang'): 1, ('exchang', 'char'): 1, ('char', 'mike'): 1, ('mike', 'masnick'): 1, ('masnick', 'wrote'): 1, ('wrote', 'good'): 1, ('good', 'piece'): 1, ('piece', 'topic'): 1, ('topic', 'techdirt'): 1, ('techdirt', 'blog'): 1, ('blog', 'last'): 1, ('last', 'weeki'): 1, ('weeki', 'particularly'): 1, ('particularly', 'like'): 1, ('like', 'partfirst'): 1, ('partfirst', 'let'): 1, ('let', 'look'): 1, ('look', 'world'): 1, ('world', 'without'): 1, ('without', 'content'): 1, ('content', 'moderation'): 1, ('moderation', 'website'): 1, ('website', 'ha'): 1, ('ha', 'cont'): 1, ('cont', 'char'): 1, ('reuters', 'last'): 1, ('week', 'top'): 1, ('top', 'us'): 1, ('us', 'banking'): 1, ('banking', 'regulator'): 1, ('regulator', 'warned'): 1, ('warned', 'growing'): 1, ('growing', 'risk'): 1, ('risk', 'bank'): 1, ('bank', 'start'): 1, ('start', 'capitalize'): 1, ('capitalize', 'popularity'): 1, ('popularity', 'cryptocurrencies'): 1, ('cryptocurrencies', 'offer'): 1, ('offer', 'related'): 1, ('related', 'service'): 1, ('service', 'client'): 1, ('client', 'char'): 1, ('char', 'bangkok'): 1, ('bangkok', 'april'): 1, ('reuters', 'thai'): 1, ('thai', 'master'): 1, ('master', 'student'): 1, ('student', 'dhidhaj'): 1, ('dhidhaj', 'sumedhsvast'): 1, ('sumedhsvast', 'didnt'): 1, ('didnt', 'believe'): 1, ('believe', 'fortunetelling'): 1, ('fortunetelling', 'supernatural'): 1, ('supernatural', 'power'): 1, ('power', 'coronavirus'): 1, ('coronavirus', 'pandemic'): 1, ('pandemic', 'started'): 1, ('started', 'two'): 1, ('two', 'year'): 1, ('year', 'agonow'): 1, ('agonow', 'regularl'): 1, ('regularl', 'char'): 1, ('last', 'year'): 2, ('year', 'medium'): 1, ('medium', 'coverage'): 1, ('coverage', 'general'): 1, ('general', 'public'): 1, ('public', 'interest'): 1, ('interest', 'cryptocurrencies'): 1, ('cryptocurrencies', 'blockchains'): 1, ('blockchains', 'nfts'): 1, ('nfts', 'ha'): 1, ('ha', 'ramped'): 1, ('ramped', 'significantly'): 1, ('significantly', 'march'): 1, ('march', 'global'): 1, ('global', 'market'): 1, ('market', 'cap'): 3, ('cap', 'cryptocurrencies'): 1, ('week', 'publish'): 1, ('publish', 'multiple'): 1, ('multiple', 'incredible'): 1, ('incredible', 'story'): 1, ('story', 'motherboard'): 1, ('motherboard', 'week'): 1, ('week', 'many'): 1, ('many', 'couldnt'): 1, ('couldnt', 'decide'): 1, ('decide', 'one'): 1, ('one', 'wanted'): 1, ('wanted', 'focus'): 1, ('focus', 'gon'): 1, ('gon', 'na'): 1, ('na', 'something'): 1, ('something', 'little'): 1, ('little', 'different'): 1, ('different', 'char'): 1, ('register', 'todaycarbon'): 1, ('todaycarbon', 'char'): 1, ('crypto', 'potentially'): 1, ('potentially', 'lucrative'): 1, ('lucrative', 'investment'): 1, ('investment', 'thousand'): 1, ('thousand', 'cryptocurrencies'): 1, ('cryptocurrencies', 'tough'): 1, ('tough', 'determine'): 1, ('determine', 'one'): 1, ('one', 'better'): 1, ('better', 'buysethereumeth'): 1, ('buysethereumeth', 'second'): 1, ('second', 'mo'): 1, ('char', 'stripe'): 1, ('stripe', 'online'): 1, ('online', 'payment'): 1, ('payment', 'processing'): 1, ('processing', 'service'): 1, ('service', 'partnering'): 1, ('partnering', 'twitter'): 1, ('twitter', 'test'): 1, ('test', 'way'): 1, ('way', 'creator'): 1, ('creator', 'receive'): 1, ('receive', 'payment'): 1, ('payment', 'cryptocurrency'): 1, ('cryptocurrency', 'select'): 1, ('select', 'group'): 1, ('group', 'creator'): 1, ('creator', 'monetization'): 1, ('monetization', 'feature'): 1, ('feature', 'char'): 1, ('want', 'cryptocurrency'): 2, ('cryptocurrency', 'stand'): 2, ('stand', 'test'): 3, ('test', 'time'): 3, ('look', 'thanethereum'): 1, ('thanethereum', 'eth'): 1, ('eth', 'andavalanche'): 1, ('andavalanche', 'avax'): 1, ('avax', 'asset'): 1, ('asset', 'look'): 1, ('look', 'positioned'): 1, ('positioned', 'longterm'): 1, ('longterm', 'success'): 1, ('success', 'st'): 1, ('st', 'char'): 1, ('char', 'invested'): 1, ('invested', 'money'): 1, ('money', 'stock'): 1, ('stock', 'market'): 1, ('market', 'march'): 1, ('march', 'youve'): 1, ('youve', 'done'): 1, ('done', 'quite'): 1, ('quite', 'well'): 1, ('well', 'widely'): 1, ('widely', 'followed'): 1, ('followed', 'sampp'): 1, ('sampp', 'ha'): 1, ('ha', 'effectively'): 1, ('effectively', 'doubled'): 1, ('doubled', 'value'): 1, ('value', 'since'): 1, ('since', 'hitting'): 1, ('hitting', 'pandemic'): 1, ('pandemic', 'lowbut'): 1, ('lowbut', 'boug'): 1, ('boug', 'char'): 1, ('char', 'market'): 1, ('market', 'selloff'): 1, ('selloff', 'sometimes'): 1, ('sometimes', 'difficult'): 1, ('difficult', 'decide'): 1, ('decide', 'invest'): 1, ('invest', 'buy'): 1, ('buy', 'growth'): 1, ('growth', 'stock'): 1, ('stock', 'sale'): 1, ('sale', 'maybe'): 1, ('maybe', 'want'): 1, ('want', 'dividend'): 1, ('dividend', 'stock'): 1, ('stock', 'count'): 1, ('count', 'passive'): 1, ('passive', 'income'): 1, ('income', 'maybe'): 1, ('maybe', 'char'): 1, ('char', 'hard'): 1, ('hard', 'find'): 1, ('find', 'asset'): 1, ('asset', 'ha'): 1, ('ha', 'outperformed'): 1, ('outperformed', 'ethereumseth'): 1, ('ethereumseth', 'return'): 1, ('return', 'past'): 1, ('past', 'five'): 1, ('year', 'world'): 1, ('world', 'top'): 1, ('top', 'programmable'): 1, ('programmable', 'blockchain'): 1, ('blockchain', 'certainly'): 1, ('certainly', 'ha'): 1, ('ha', 'fair'): 1, ('fair', 'share'): 1, ('share', 'supporter'): 1, ('supporter', 'th'): 1, ('th', 'char'): 1, ('cryptocurrencies', 'taken'): 1, ('taken', 'world'): 1, ('world', 'storm'): 1, ('storm', 'last'): 1, ('year', 'one'): 1, ('one', 'leader'): 1, ('leader', 'ha'): 1, ('ha', 'ethereum'): 1, ('ethereum', 'eth'): 6, ('eth', 'ethereum'): 1, ('blockchain', 'allows'): 1, ('allows', 'developer'): 1, ('developer', 'build'): 1, ('build', 'smart'): 1, ('contract', 'char'): 1, ('char', 'discussing'): 1, ('discussing', 'ethereum'): 1, ('eth', 'hard'): 1, ('hard', 'know'): 1, ('know', 'many'): 1, ('many', 'nft'): 1, ('nft', 'contract'): 1, ('contract', 'ha'): 1, ('ha', 'theyre'): 1, ('theyre', 'used'): 1, ('used', 'clip'): 1, ('clip', 'crypto'): 1, ('crypto', 'show'): 1, ('show', 'motley'): 1, ('motley', 'fool'): 1, ('fool', 'live'): 1, ('live', 'recorded'): 1, ('recorded', 'march'): 1, ('march', 'foolc'): 1, ('foolc', 'char'): 1, ('look', 'industry'): 1, ('industry', 'biggest'): 1, ('biggest', 'namesbitcoin'): 1, ('namesbitcoin', 'btc'): 1, ('btc', 'andethereum'): 1, ('andethereum', 'eth'): 1, ('eth', 'lets'): 1, ('lets', 'explore'): 2, ('explore', 'blue'): 1, ('blue', 'chip'): 1, ('chip', 'cryptos'): 1, ('cryptos', 'char'): 1, ('want', 'investment'): 1, ('investment', 'built'): 1, ('built', 'stand'): 1, ('look', 'strong'): 1, ('strong', 'brand'): 1, ('brand', 'sustainable'): 1, ('sustainable', 'advantage'): 1, ('advantage', 'cryptocurrency'): 1, ('cryptocurrency', 'giantsethereum'): 1, ('giantsethereum', 'eth'): 1, ('eth', 'andsolana'): 1, ('andsolana', 'sol'): 1, ('sol', 'fit'): 1, ('fit', 'bill'): 1, ('bill', 'lets'): 1, ('lets', 'discu'): 1, ('discu', 'char'): 1, ('char', 'opensea'): 1, ('opensea', 'world'): 1, ('world', 'largest'): 1, ('largest', 'nonfungible'): 1, ('token', 'nft'): 1, ('marketplace', 'announced'): 1, ('announced', 'list'): 1, ('list', 'solana'): 1, ('solana', 'sol'): 1, ('sol', 'based'): 1, ('based', 'nfts'): 1, ('nfts', 'site'): 1, ('site', 'april'): 1, ('april', 'currently'): 1, ('currently', 'nfts'): 1, ('nfts', 'ethereum'): 1, ('eth', 'char'): 1, ('char', 'dont'): 1, ('dont', 'need'): 1, ('need', 'fortune'): 1, ('fortune', 'get'): 1, ('get', 'started'): 1, ('started', 'crypto'): 1, ('crypto', 'starting'): 1, ('starting', 'investment'): 1, ('investment', 'could'): 1, ('could', 'help'): 1, ('help', 'set'): 1, ('set', 'foundation'): 1, ('foundation', 'enormous'): 1, ('enormous', 'return'): 1, ('return', 'long'): 1, ('long', 'term'): 1, ('term', 'lets'): 1, ('explore', 'ethereumeth'): 1, ('ethereumeth', 'andri'): 1, ('andri', 'char'): 1, ('char', 'solananfttrading'): 1, ('solananfttrading', 'volume'): 1, ('volume', 'ha'): 1, ('ha', 'jumped'): 1, ('jumped', 'thanks'): 1, ('thanks', 'new'): 1, ('new', 'nft'): 1, ('nft', 'project'): 1, ('project', 'decrypt'): 1, ('decrypt', 'reported'): 1, ('reported', 'solanabased'): 1, ('solanabased', 'okay'): 1, ('okay', 'bears'): 1, ('bears', 'avatar'): 1, ('avatar', 'series'): 1, ('series', 'wa'): 1, ('wa', 'popular'): 1, ('popular', 'upon'): 1, ('upon', 'release'): 1, ('release', 'yesterday'): 1, ('yesterday', 'project'): 1, ('project', 'generated'): 1, ('generated', 'char'): 1, ('char', 'bloombergs'): 1, ('bloombergs', 'levine'): 1, ('levine', 'give'): 1, ('give', 'intuitive'): 1, ('intuitive', 'understanding'): 1, ('understanding', 'farming'): 1, ('farming', 'mean'): 1, ('mean', 'like'): 1, ('like', 'farming'): 1, ('farming', 'like'): 1, ('like', 'sell'): 1, ('sell', 'structured'): 1, ('structured', 'put'): 1, ('put', 'collect'): 1, ('collect', 'premium'): 1, ('premium', 'perhaps'): 1, ('perhaps', 'sophistica'): 1, ('sophistica', 'char'): 1, ('cryptocurrencies', 'digital'): 1, ('digital', 'currency'): 1, ('currency', 'act'): 1, ('act', 'medium'): 1, ('medium', 'exchange'): 1, ('exchange', 'like'): 1, ('like', 'regular'): 1, ('regular', 'money'): 1, ('money', 'one'): 1, ('one', 'difference'): 1, ('difference', 'cryptocurrencies'): 1, ('cryptocurrencies', 'paper'): 1, ('paper', 'money'): 1, ('money', 'cryptocurrencies'): 1, ('cryptocurrencies', 'designe'): 1, ('designe', 'char'): 1, ('us', 'court'): 1, ('court', 'ha'): 1, ('ha', 'sentenced'): 1, ('sentenced', 'former'): 1, ('former', 'ethereum'): 1, ('developer', 'virgil'): 1, ('virgil', 'griffith'): 1, ('griffith', 'five'): 1, ('prison', 'pay'): 1, ('pay', 'fine'): 1, ('fine', 'conspiring'): 1, ('conspiring', 'north'): 1, ('korea', 'help'): 1, ('help', 'use'): 1, ('use', 'cryptocurrencies'): 1, ('cryptocurrencies', 'c'): 1, ('c', 'char'): 1, ('char', 'software'): 1, ('software', 'company'): 1, ('company', 'opera'): 1, ('opera', 'announced'): 1, ('announced', 'bringing'): 1, ('bringing', 'crypto'): 1, ('browser', 'project'): 1, ('project', 'ios'): 1, ('ios', 'browser'): 1, ('browser', 'already'): 1, ('already', 'available'): 1, ('available', 'mac'): 1, ('mac', 'windows'): 1, ('windows', 'android'): 1, ('android', 'provides'): 1, ('provides', 'userfriendly'): 1, ('userfriendly', 'access'): 1, ('access', 'char'): 1, ('char', 'ark'): 1, ('ark', 'invest'): 1, ('invest', 'chief'): 1, ('chief', 'executive'): 1, ('executive', 'officer'): 1, ('officer', 'cathie'): 1, ('cathie', 'wood'): 1, ('wood', 'ha'): 1, ('ha', 'never'): 1, ('never', 'shied'): 1, ('shied', 'away'): 1, ('away', 'bold'): 1, ('bold', 'prediction'): 1, ('prediction', 'put'): 1, ('put', 'price'): 1, ('price', 'target'): 1, ('target', 'tesla'): 1, ('tesla', 'implied'): 1, ('implied', 'billion'): 1, ('billion', 'market'): 1, ('cap', 'course'): 1, ('course', 'tesla'): 1, ('tesla', 'ha'): 1, ('ha', 'since'): 1, ('since', 'char'): 1, ('char', 'happenedthe'): 5, ('happenedthe', 'waves'): 1, ('waves', 'waves'): 1, ('waves', 'token'): 1, ('token', 'giving'): 1, ('giving', 'back'): 1, ('back', 'recent'): 1, ('recent', 'gain'): 1, ('gain', 'token'): 1, ('token', 'heart'): 1, ('heart', 'waves'): 1, ('waves', 'decentralized'): 1, ('decentralized', 'application'): 1, ('application', 'platform'): 1, ('platform', 'wa'): 1, ('wa', 'lower'): 1, ('lower', 'hour'): 1, ('hour', 'char'): 1, ('char', 'important'): 1, ('important', 'milestone'): 1, ('milestone', 'ethereum'): 1, ('eth', 'since'): 1, ('since', 'launch'): 1, ('launch', 'arguably'): 1, ('arguably', 'way'): 1, ('way', 'merge'): 1, ('merge', 'beacon'): 1, ('beacon', 'chain'): 1, ('chain', 'ethereum'): 1, ('ethereum', 'mainnet'): 1, ('mainnet', 'wa'): 1, ('wa', 'expected'): 1, ('expected', 'take'): 1, ('take', 'place'): 1, ('place', 'june'): 1, ('june', 'thi'): 1, ('thi', 'char'): 1, ('char', 'youd'): 1, ('youd', 'run'): 1, ('run', 'finger'): 1, ('finger', 'counting'): 1, ('counting', 'good'): 1, ('good', 'thing'): 1, ('thing', 'aboutethereum'): 1, ('aboutethereum', 'eth'): 1, ('eth', 'list'): 1, ('list', 'includes'): 1, ('includes', 'cryptocurrencys'): 1, ('cryptocurrencys', 'ranking'): 1, ('ranking', 'based'): 1, ('based', 'market'): 1, ('cap', 'massive'): 1, ('massive', 'return'): 1, ('return', 'recent'): 1, ('year', 'stat'): 1, ('stat', 'char'): 1, ('ha', 'implicated'): 1, ('implicated', 'north'): 1, ('north', 'koreabacked'): 1, ('koreabacked', 'lazarus'): 1, ('lazarus', 'group'): 1, ('group', 'aka'): 1, ('aka', 'hidden'): 1, ('hidden', 'cobra'): 1, ('cobra', 'theft'): 1, ('million', 'video'): 1, ('video', 'game'): 1, ('axie', 'infinitys'): 1, ('infinitys', 'ronin'): 1, ('ronin', 'network'): 1, ('network', 'last'): 1, ('last', 'monthon'): 1, ('monthon', 'thursday'): 1, ('char', 'yuga'): 1, ('yuga', 'labs'): 2, ('labs', 'brand'): 1, ('brand', 'behind'): 1, ('behind', 'bored'): 1, ('bored', 'ape'): 1, ('ape', 'yacht'): 1, ('club', 'bayc'): 1, ('bayc', 'announced'): 1, ('announced', 'monday'): 1, ('monday', 'launch'): 1, ('launch', 'metaverse'): 1, ('metaverse', 'otherside'): 1, ('otherside', 'project'): 1, ('project', 'launch'): 1, ('launch', 'april'): 1, ('april', 'partnership'): 1, ('partnership', 'animoca'): 1, ('animoca', 'brandsthe'): 1, ('brandsthe', 'others'): 1, ('others', 'char'): 1, ('char', 'avvenire'): 1, ('avvenire', 'electric'): 1, ('electric', 'vehicles'): 1, ('vehicles', 'taking'): 1, ('taking', 'evs'): 1, ('evs', 'next'): 1, ('level', 'allowing'): 1, ('allowing', 'driver'): 1, ('driver', 'get'): 1, ('get', 'cryptocurrency'): 1, ('cryptocurrency', 'game'): 1, ('game', 'crypto'): 1, ('crypto', 'mining'): 1, ('mining', 'spiritus'): 1, ('spiritus', 'threewheeled'): 1, ('threewheeled', 'fully'): 1, ('fully', 'electric'): 1, ('electric', 'car'): 1, ('car', 'come'): 1, ('come', 'char'): 1, ('char', 'competition'): 1, ('competition', 'blockchains'): 1, ('blockchains', 'developer'): 1, ('developer', 'user'): 1, ('user', 'pick'): 1, ('pick', 'investor'): 1, ('investor', 'decide'): 1, ('decide', 'cryptocurrency'): 1, ('cryptocurrency', 'likely'): 1, ('likely', 'winner'): 1, ('winner', 'future'): 1, ('future', 'ethereum'): 1, ('eth', 'ha'): 1, ('ha', 'long'): 1, ('long', 'big'): 1, ('big', 'lead'): 1, ('lead', 'char'): 1, ('happenedthe', 'price'): 1, ('price', 'several'): 1, ('several', 'popular'): 1, ('popular', 'cryptocurrencies'): 1, ('cryptocurrencies', 'fell'): 2, ('fell', 'investor'): 1, ('investor', 'evaluated'): 1, ('evaluated', 'move'): 1, ('move', 'federal'): 1, ('federal', 'reserve'): 1, ('reserve', 'desperately'): 1, ('desperately', 'trying'): 1, ('trying', 'rein'): 1, ('rein', 'surging'): 1, ('surging', 'inflationthe'): 1, ('inflationthe', 'char'): 1, ('char', 'wa'): 1, ('wa', 'year'): 1, ('year', 'ofethereum'): 1, ('ofethereum', 'eth'): 1, ('eth', 'proofofstake'): 1, ('proofofstake', 'cryptocurrency'): 1, ('cryptocurrency', 'stormed'): 1, ('stormed', 'chart'): 1, ('chart', 'gaining'): 1, ('gaining', 'become'): 1, ('become', 'legitimate'): 1, ('legitimate', 'challenger'): 1, ('challenger', 'tobitcoins'): 1, ('tobitcoins', 'btc'): 1, ('btc', 'crypto'): 1, ('crypto', 'supremacythe'): 1, ('supremacythe', 'nf'): 1, ('nf', 'char'): 1, ('char', 'happenedits'): 1, ('happenedits', 'rather'): 1, ('rather', 'bumpy'): 1, ('bumpy', 'ride'): 1, ('ride', 'world'): 1, ('world', 'largecap'): 1, ('largecap', 'cryptocurrencies'): 1, ('cryptocurrencies', 'late'): 1, ('late', 'volatility'): 1, ('volatility', 'ha'): 1, ('ha', 'continued'): 1, ('continued', 'bitcoin'): 1, ('btc', 'ethereum'): 1, ('eth', 'andxrp'): 1, ('andxrp', 'xr'): 1, ('xr', 'char'): 1, ('happenedthe', 'cryptocurrency'): 2, ('cryptocurrency', 'market'): 2, ('market', 'bad'): 1, ('bad', 'end'): 1, ('end', 'week'): 1, ('week', 'friday'): 1, ('friday', 'selling'): 1, ('selling', 'could'): 1, ('could', 'wild'): 1, ('wild', 'weekend'): 1, ('weekend', 'yuga'): 1, ('labs', 'minting'): 1, ('minting', 'form'): 1, ('form', 'land'): 1, ('land', 'metaverse'): 1, ('market', 'seeing'): 1, ('seeing', 'day'): 1, ('day', 'selloff'): 1, ('selloff', 'price'): 1, ('price', 'shiba'): 1, ('shiba', 'inushib'): 1, ('inushib', 'ethereumeth'): 1, ('ethereumeth', 'dogecoins'): 1, ('dogecoins', 'doge'): 1, ('doge', 'token'): 1, ('token', 'losing'): 1, ('losing', 'ground'): 1, ('ground', 'char'): 1, ('cryptocurrency', 'price'): 1, ('price', 'may'): 1, ('may', 'taken'): 1, ('taken', 'beating'): 1, ('beating', 'last'): 1, ('month', 'mean'): 1, ('mean', 'best'): 1, ('best', 'investment'): 1, ('investment', 'saleethereum'): 1, ('saleethereum', 'eth'): 1, ('eth', 'one'): 1, ('one', 'popular'): 1, ('popular', 'cryptocurrenc'): 1, ('cryptocurrenc', 'char'): 1, ('happenedthe', 'value'): 1, ('value', 'cryptocurrencies'): 1, ('fell', 'friday'): 1, ('friday', 'morning'): 1, ('morning', 'european'): 1, ('european', 'union'): 1, ('union', 'moved'): 1, ('moved', 'forward'): 1, ('forward', 'potentially'): 1, ('potentially', 'restrictive'): 1, ('restrictive', 'regulation'): 1, ('regulation', 'crypto'): 1, ('crypto', 'fell'): 1, ('fell', 'across'): 1, ('across', 'board'): 1, ('board', 'big'): 1, ('big', 'na'): 1, ('na', 'char'): 1}\n"
     ]
    }
   ],
   "source": [
    "# Generate the Ethereum N-grams where N=2\n",
    "ethereum_freq = []\n",
    "for words in ethereum_df['tokens']:\n",
    "    ethereum_freq = ethereum_freq + words \n",
    "\n",
    "ethereum_ngrams = Counter(ngrams(ethereum_freq, n=2))\n",
    "print(dict(ethereum_ngrams))"
   ]
  },
  {
   "cell_type": "code",
   "execution_count": 52,
   "metadata": {},
   "outputs": [],
   "source": [
    "# Function token_count generates the top 10 words for a given coin\n",
    "def token_count(tokens, N=10):\n",
    "    \"\"\"Returns the top N tokens from the frequency count\"\"\"\n",
    "    return Counter(tokens).most_common(N)"
   ]
  },
  {
   "cell_type": "code",
   "execution_count": 53,
   "metadata": {},
   "outputs": [
    {
     "data": {
      "text/plain": [
       "[(('april', 'reuters'), 8),\n",
       " (('char', 'april'), 7),\n",
       " (('north', 'korean'), 6),\n",
       " (('char', 'us'), 6),\n",
       " (('ethereum', 'eth'), 6),\n",
       " (('five', 'year'), 5),\n",
       " (('char', 'happenedthe'), 5),\n",
       " (('us', 'treasury'), 4),\n",
       " (('treasury', 'department'), 4),\n",
       " (('time', 'look'), 4)]"
      ]
     },
     "execution_count": 53,
     "metadata": {},
     "output_type": "execute_result"
    }
   ],
   "source": [
    "# Use token_count to get the top 10 words for Bitcoin\n",
    "token_count(bitcoin_ngrams)"
   ]
  },
  {
   "cell_type": "code",
   "execution_count": 54,
   "metadata": {},
   "outputs": [
    {
     "data": {
      "text/plain": [
       "[(('april', 'reuters'), 8),\n",
       " (('char', 'april'), 7),\n",
       " (('north', 'korean'), 6),\n",
       " (('char', 'us'), 6),\n",
       " (('ethereum', 'eth'), 6),\n",
       " (('five', 'year'), 5),\n",
       " (('char', 'happenedthe'), 5),\n",
       " (('us', 'treasury'), 4),\n",
       " (('treasury', 'department'), 4),\n",
       " (('time', 'look'), 4)]"
      ]
     },
     "execution_count": 54,
     "metadata": {},
     "output_type": "execute_result"
    }
   ],
   "source": [
    "# Use token_count to get the top 10 words for Ethereum\n",
    "token_count(ethereum_ngrams)"
   ]
  },
  {
   "cell_type": "markdown",
   "metadata": {},
   "source": [
    "---"
   ]
  },
  {
   "cell_type": "markdown",
   "metadata": {},
   "source": [
    "### Word Clouds\n",
    "\n",
    "In this section, you will generate word clouds for each coin to summarize the news for each coin"
   ]
  },
  {
   "cell_type": "code",
   "execution_count": 55,
   "metadata": {},
   "outputs": [],
   "source": [
    "from wordcloud import WordCloud\n",
    "import matplotlib.pyplot as plt\n",
    "plt.style.use('seaborn-whitegrid')\n",
    "import matplotlib as mpl\n",
    "mpl.rcParams['figure.figsize'] = [20.0, 10.0]"
   ]
  },
  {
   "cell_type": "code",
   "execution_count": null,
   "metadata": {},
   "outputs": [],
   "source": [
    "# Generate the Bitcoin word cloud\n",
    "# YOUR CODE HERE!"
   ]
  },
  {
   "cell_type": "code",
   "execution_count": null,
   "metadata": {},
   "outputs": [],
   "source": [
    "# Generate the Ethereum word cloud\n",
    "# YOUR CODE HERE!"
   ]
  },
  {
   "cell_type": "markdown",
   "metadata": {},
   "source": [
    "---\n",
    "## 3. Named Entity Recognition\n",
    "\n",
    "In this section, you will build a named entity recognition model for both Bitcoin and Ethereum, then visualize the tags using SpaCy."
   ]
  },
  {
   "cell_type": "code",
   "execution_count": null,
   "metadata": {},
   "outputs": [],
   "source": [
    "import spacy\n",
    "from spacy import displacy"
   ]
  },
  {
   "cell_type": "code",
   "execution_count": null,
   "metadata": {},
   "outputs": [],
   "source": [
    "# Download the language model for SpaCy\n",
    "# !python -m spacy download en_core_web_sm"
   ]
  },
  {
   "cell_type": "code",
   "execution_count": null,
   "metadata": {},
   "outputs": [],
   "source": [
    "# Load the spaCy model\n",
    "nlp = spacy.load('en_core_web_sm')"
   ]
  },
  {
   "cell_type": "markdown",
   "metadata": {},
   "source": [
    "---\n",
    "### Bitcoin NER"
   ]
  },
  {
   "cell_type": "code",
   "execution_count": null,
   "metadata": {},
   "outputs": [],
   "source": [
    "# Concatenate all of the Bitcoin text together\n",
    "# YOUR CODE HERE!"
   ]
  },
  {
   "cell_type": "code",
   "execution_count": null,
   "metadata": {},
   "outputs": [],
   "source": [
    "# Run the NER processor on all of the text\n",
    "# YOUR CODE HERE!\n",
    "\n",
    "# Add a title to the document\n",
    "# YOUR CODE HERE!"
   ]
  },
  {
   "cell_type": "code",
   "execution_count": null,
   "metadata": {},
   "outputs": [],
   "source": [
    "# Render the visualization\n",
    "# YOUR CODE HERE!"
   ]
  },
  {
   "cell_type": "code",
   "execution_count": null,
   "metadata": {},
   "outputs": [],
   "source": [
    "# List all Entities\n",
    "# YOUR CODE HERE!"
   ]
  },
  {
   "cell_type": "markdown",
   "metadata": {},
   "source": [
    "---"
   ]
  },
  {
   "cell_type": "markdown",
   "metadata": {},
   "source": [
    "### Ethereum NER"
   ]
  },
  {
   "cell_type": "code",
   "execution_count": null,
   "metadata": {},
   "outputs": [],
   "source": [
    "# Concatenate all of the Ethereum text together\n",
    "# YOUR CODE HERE!"
   ]
  },
  {
   "cell_type": "code",
   "execution_count": null,
   "metadata": {},
   "outputs": [],
   "source": [
    "# Run the NER processor on all of the text\n",
    "# YOUR CODE HERE!\n",
    "\n",
    "# Add a title to the document\n",
    "# YOUR CODE HERE!"
   ]
  },
  {
   "cell_type": "code",
   "execution_count": null,
   "metadata": {},
   "outputs": [],
   "source": [
    "# Render the visualization\n",
    "# YOUR CODE HERE!"
   ]
  },
  {
   "cell_type": "code",
   "execution_count": null,
   "metadata": {},
   "outputs": [],
   "source": [
    "# List all Entities\n",
    "# YOUR CODE HERE!"
   ]
  },
  {
   "cell_type": "markdown",
   "metadata": {},
   "source": [
    "---"
   ]
  }
 ],
 "metadata": {
  "file_extension": ".py",
  "kernelspec": {
   "display_name": "Python 3",
   "language": "python",
   "name": "python3"
  },
  "language_info": {
   "codemirror_mode": {
    "name": "ipython",
    "version": 3
   },
   "file_extension": ".py",
   "mimetype": "text/x-python",
   "name": "python",
   "nbconvert_exporter": "python",
   "pygments_lexer": "ipython3",
   "version": "3.9.7"
  },
  "mimetype": "text/x-python",
  "name": "python",
  "npconvert_exporter": "python",
  "pygments_lexer": "ipython3",
  "version": 3
 },
 "nbformat": 4,
 "nbformat_minor": 4
}
